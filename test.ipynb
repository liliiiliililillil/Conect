{
  "nbformat": 4,
  "nbformat_minor": 0,
  "metadata": {
    "colab": {
      "provenance": [],
      "mount_file_id": "1x41thk-gEKs5jaipZWYThN7laEH8PeF-",
      "authorship_tag": "ABX9TyN1n6cPFKtc/H/FUAFHG5j7",
      "include_colab_link": true
    },
    "kernelspec": {
      "name": "python3",
      "display_name": "Python 3"
    },
    "language_info": {
      "name": "python"
    }
  },
  "cells": [
    {
      "cell_type": "markdown",
      "metadata": {
        "id": "view-in-github",
        "colab_type": "text"
      },
      "source": [
        "<a href=\"https://colab.research.google.com/github/liliiiliililillil/Conect/blob/master/test.ipynb\" target=\"_parent\"><img src=\"https://colab.research.google.com/assets/colab-badge.svg\" alt=\"Open In Colab\"/></a>"
      ]
    },
    {
      "cell_type": "markdown",
      "source": [
        "#2024(1223 - 1224)"
      ],
      "metadata": {
        "id": "pi5LGj20sAPs"
      }
    },
    {
      "cell_type": "code",
      "execution_count": null,
      "metadata": {
        "colab": {
          "base_uri": "https://localhost:8080/"
        },
        "id": "ayEWQUKzBmWV",
        "outputId": "e2f44bbd-5dd5-42cc-f14f-4b4f2c8c2f6f"
      },
      "outputs": [
        {
          "output_type": "stream",
          "name": "stdout",
          "text": [
            "Block Identation\n",
            "Block Identation\n",
            "Block Identation\n",
            "Block Identation\n",
            "result: True\n"
          ]
        }
      ],
      "source": [
        "result = True\n",
        "\n",
        "def FuntionBlock():\n",
        "  print(\"Block Identation\")\n",
        "  print(\"Block Identation\")\n",
        "  print(\"Block Identation\")\n",
        "  print(\"Block Identation\")\n",
        "\n",
        "  if result == False:\n",
        "    print(\"result: False\")\n",
        "  else:\n",
        "    print(\"result: True\")\n",
        "\n",
        "FuntionBlock()\n"
      ]
    },
    {
      "cell_type": "code",
      "source": [
        "# prompt: *로 피라미드 10층 쌓아줘\n",
        "\n",
        "def print_pyramid(height):\n",
        "    for i in range(height):\n",
        "        print(\" \" * (height - i - 1) + \"*\" * (2 * i + 1))\n",
        "\n",
        "print_pyramid(10)"
      ],
      "metadata": {
        "colab": {
          "base_uri": "https://localhost:8080/"
        },
        "id": "jTD9I1tPLR6F",
        "outputId": "4c6197f5-1374-4ec5-f15d-0bd2a0611dd3"
      },
      "execution_count": null,
      "outputs": [
        {
          "output_type": "stream",
          "name": "stdout",
          "text": [
            "         *\n",
            "        ***\n",
            "       *****\n",
            "      *******\n",
            "     *********\n",
            "    ***********\n",
            "   *************\n",
            "  ***************\n",
            " *****************\n",
            "*******************\n"
          ]
        }
      ]
    },
    {
      "cell_type": "code",
      "source": [
        "def generate_text(prompt):\n",
        "    \"\"\"Generates text based on the given prompt.\"\"\"\n",
        "    # Simple keyword-based responses\n",
        "    if \"hello\" in prompt.lower():\n",
        "        return \"Hello there!\"\n",
        "    elif \"how are you\" in prompt.lower():\n",
        "        return \"I'm doing well, thank you.\"\n",
        "    elif \"what is your name\" in prompt.lower():\n",
        "        return \"I'm a small language model.\"\n",
        "    elif \"pyramid\" in prompt.lower():\n",
        "        return \"I can print a pyramid. Please specify the height.\"\n",
        "    elif \"block\" in prompt.lower():\n",
        "        return \"I can print block indentations and handle boolean conditions.\"\n",
        "    elif \"안녕\" in prompt.lower():\n",
        "        return \"반가워요\"\n",
        "    elif \"잘가\" in prompt.lower():\n",
        "        return \"그리울꺼예요\"\n",
        "    elif \"꺼져\" in prompt.lower():\n",
        "        return \"凸\"\n",
        "    elif \"집에 가고 싶다\" in prompt.lower():\n",
        "        return \"저도요 퇴근하고 싶어요\"\n",
        "    elif \"야\" in prompt.lower():\n",
        "        return \"호\"\n",
        "    elif \"심심하다\" in prompt.lower():\n",
        "        return \"심심하시다고요? 저도요\"\n",
        "    elif \"랩 해줘\" in prompt.lower():\n",
        "        return \"(Verse 1)\\n아침 햇살에 눈이 부셔\\n오늘 기분은 최고야, 뭐든 해도 좋아\\n신발 끈을 다시 묶고\\n거울 속의 나에게 외쳐, 오늘은 그냥 놀아\\n\\n(Pre-Chorus)\\n걱정은 내려두고, 마음껏 뛰어봐\\n이 순간을 즐겨, 그냥 하는 거니까\\n친구들과 함께라면 더 재밌어\\n우리의 이야기가 지금 시작돼\\n\\n(Chorus)\\n그냥 하는 거, 신나게 즐겨봐\\n하늘 위로, 구름처럼 날아가\\n어떤 계획도 필요 없어, 그냥 해\\n이 순간을 위해 우리는 태어난 거야\\n\\n(Verse 2)\\n거리 위에 나와서 리듬을 느껴\\n소리쳐봐, 세상에 외쳐\\n우리의 노래가 울려 퍼지게\\n웃음 속에 담긴 행복을 느껴봐\\n\\n(Pre-Chorus)\\n걱정은 내려두고, 마음껏 뛰어봐\\n이 순간을 즐겨, 그냥 하는 거니까\\n친구들과 함께라면 더 재밌어\\n우리의 이야기가 지금 시작돼\\n\\n(Chorus)\\n그냥 하는 거, 신나게 즐겨봐\\n하늘 위로, 구름처럼 날아가\\n어떤 계획도 필요 없어, 그냥 해\\n이 순간을 위해 우리는 태어난 거야\\n\\n(Bridge)\\n시간은 금방 지나가\\n소중한 이 순간을 놓치지 마\\n서로의 웃음이 우리를 감싸\\n그냥 하는 거, 이게 우리 스타일이야\\n\\n(Chorus)\\n그냥 하는 거, 신나게 즐겨봐\\n하늘 위로, 구름처럼 날아가\\n어떤 계획도 필요 없어, 그냥 해\\n이 순간을 위해 우리는 태어난 거야\\n\\n(Outro)\\n그냥 하는 거, 우리 함께해\\n이 순간을 느껴, 영원히 기억해\\n그냥 하는 거, 너와 나의 이야기\\n신나는 오늘을 함께 만들어 가자!\"\n",
        "    # Default response if no keywords match\n",
        "    return \"I'm not sure how to respond to that.\"\n",
        "\n",
        "def print_pyramid(height):\n",
        "    for i in range(height):\n",
        "        print(\" \" * (height - i - 1) + \"*\" * (2 * i + 1))\n",
        "\n",
        "def function_block(result): # Consistent function name\n",
        "    print(\"Block Identation\")\n",
        "    print(\"Block Identation\")\n",
        "    print(\"Block Identation\")\n",
        "    print(\"Block Identation\")\n",
        "    if result == False:\n",
        "        print(\"result: False\")\n",
        "    else:\n",
        "        print(\"result: True\")\n",
        "\n",
        "# Example usage\n",
        "user_prompt = input(\"Enter your prompt: \")\n",
        "response = generate_text(user_prompt)\n",
        "print(response)\n",
        "\n",
        "if \"pyramid\" in user_prompt.lower():\n",
        "    while True:\n",
        "        try:\n",
        "            height = int(input(\"Enter the height of the pyramid: \"))\n",
        "            print_pyramid(height)\n",
        "            break  # Exit the loop if input is valid\n",
        "        except ValueError:\n",
        "            print(\"Invalid input. Please enter a valid integer for height.\")\n",
        "\n",
        "if \"block\" in user_prompt.lower():\n",
        "    function_block(True) # Example with result = True, modify as needed."
      ],
      "metadata": {
        "colab": {
          "base_uri": "https://localhost:8080/"
        },
        "id": "cngz9OzPX6dL",
        "outputId": "4f82cdae-e821-457e-dd08-f8593f82cabe"
      },
      "execution_count": null,
      "outputs": [
        {
          "output_type": "stream",
          "name": "stdout",
          "text": [
            "Enter your prompt: 야\n",
            "호\n"
          ]
        }
      ]
    },
    {
      "cell_type": "code",
      "source": [
        "conversation_history = []\n",
        "\n",
        "def generate_text(prompt):\n",
        "    \"\"\"Generates text based on the given prompt.\"\"\"\n",
        "    # Simple keyword-based responses\n",
        "    if \"hello\" in prompt.lower():\n",
        "        return \"Hello there!\"\n",
        "    elif \"how are you\" in prompt.lower():\n",
        "        return \"I'm doing well, thank you.\"\n",
        "    elif \"what is your name\" in prompt.lower():\n",
        "        return \"I'm a small language model.\"\n",
        "    elif \"pyramid\" in prompt.lower():\n",
        "        return \"I can print a pyramid. Please specify the height.\"\n",
        "    elif \"block\" in prompt.lower():\n",
        "        return \"I can print block indentations and handle boolean conditions.\"\n",
        "    elif \"안녕\" in prompt.lower():\n",
        "        return \"반가워요\"\n",
        "    elif \"잘가\" in prompt.lower():\n",
        "        return \"그리울꺼예요\"\n",
        "    elif \"꺼져\" in prompt.lower():\n",
        "        return \"凸\"\n",
        "    elif \"집에 가고 싶다\" in prompt.lower():\n",
        "        return \"저도요 퇴근하고 싶어요\"\n",
        "    elif \"야\" in prompt.lower():\n",
        "        return \"호\"\n",
        "    elif \"심심하다\" in prompt.lower():\n",
        "        return \"심심하시다고요? 저도요\"\n",
        "    elif \"랩 해줘\" in prompt.lower():\n",
        "        return \"(Verse 1)\\n아침 햇살에 눈이 부셔\\n오늘 기분은 최고야, 뭐든 해도 좋아\\n신발 끈을 다시 묶고\\n거울 속의 나에게 외쳐, 오늘은 그냥 놀아\\n\\n(Pre-Chorus)\\n걱정은 내려두고, 마음껏 뛰어봐\\n이 순간을 즐겨, 그냥 하는 거니까\\n친구들과 함께라면 더 재밌어\\n우리의 이야기가 지금 시작돼\\n\\n(Chorus)\\n그냥 하는 거, 신나게 즐겨봐\\n하늘 위로, 구름처럼 날아가\\n어떤 계획도 필요 없어, 그냥 해\\n이 순간을 위해 우리는 태어난 거야\\n\\n(Verse 2)\\n거리 위에 나와서 리듬을 느껴\\n소리쳐봐, 세상에 외쳐\\n우리의 노래가 울려 퍼지게\\n웃음 속에 담긴 행복을 느껴봐\\n\\n(Pre-Chorus)\\n걱정은 내려두고, 마음껏 뛰어봐\\n이 순간을 즐겨, 그냥 하는 거니까\\n친구들과 함께라면 더 재밌어\\n우리의 이야기가 지금 시작돼\\n\\n(Chorus)\\n그냥 하는 거, 신나게 즐겨봐\\n하늘 위로, 구름처럼 날아가\\n어떤 계획도 필요 없어, 그냥 해\\n이 순간을 위해 우리는 태어난 거야\\n\\n(Bridge)\\n시간은 금방 지나가\\n소중한 이 순간을 놓치지 마\\n서로의 웃음이 우리를 감싸\\n그냥 하는 거, 이게 우리 스타일이야\\n\\n(Chorus)\\n그냥 하는 거, 신나게 즐겨봐\\n하늘 위로, 구름처럼 날아가\\n어떤 계획도 필요 없어, 그냥 해\\n이 순간을 위해 우리는 태어난 거야\\n\\n(Outro)\\n그냥 하는 거, 우리 함께해\\n이 순간을 느껴, 영원히 기억해\\n그냥 하는 거, 너와 나의 이야기\\n신나는 오늘을 함께 만들어 가자!\"\n",
        "    elif \"바보야\" in prompt.lower():\n",
        "        return \"네 저는 바보 AI입니다\"\n",
        "    elif \"종료\" in prompt.lower():\n",
        "        return \"프로그램을 종료합니다. 안녕히 가세요!\"\n",
        "\n",
        "    # Default response if no keywords match\n",
        "\n",
        "    # Consider conversation history for contextual responses (basic example)\n",
        "    for previous_prompt, previous_response in conversation_history:\n",
        "        if previous_prompt.lower() in prompt.lower():  # Check if related\n",
        "            return \"You mentioned that before! \" + previous_response\n",
        "\n",
        "    return \"I'm not sure how to respond to that.\"\n",
        "\n",
        "def print_pyramid(height):\n",
        "    for i in range(height):\n",
        "        print(\" \" * (height - i - 1) + \"*\" * (2 * i + 1))\n",
        "\n",
        "def function_block(result):  # Consistent function name\n",
        "    print(\"Block Indentation\")\n",
        "    print(\"Block Indentation\")\n",
        "    print(\"Block Indentation\")\n",
        "    print(\"Block Indentation\")\n",
        "    if result == False:\n",
        "        print(\"result: False\")\n",
        "    else:\n",
        "        print(\"result: True\")\n",
        "\n",
        "# Example usage\n",
        "while True:  # Main loop to keep the conversation going\n",
        "    user_prompt = input(\"Enter your prompt: \")\n",
        "    response = generate_text(user_prompt)\n",
        "    print(response)\n",
        "\n",
        "    # Check if the user wants to exit\n",
        "    if \"종료\" in user_prompt.lower():\n",
        "        break  # Exit the loop and end the program\n",
        "\n",
        "    # Store the interaction in the history\n",
        "    conversation_history.append((user_prompt, response))\n",
        "\n",
        "    if \"pyramid\" in user_prompt.lower():\n",
        "        while True:\n",
        "            try:\n",
        "                height = int(input(\"Enter the height of the pyramid: \"))\n",
        "                print_pyramid(height)\n",
        "                break  # Exit the loop if input is valid\n",
        "            except ValueError:\n",
        "                print(\"Invalid input. Please enter a valid integer for height.\")\n",
        "\n",
        "    if \"block\" in user_prompt.lower():\n",
        "        function_block(True)  # Example with result = True, modify as needed"
      ],
      "metadata": {
        "colab": {
          "base_uri": "https://localhost:8080/"
        },
        "id": "6V_ykUO2Y83M",
        "outputId": "2476afe6-42a1-4e75-958b-eed4f0c5b9b3"
      },
      "execution_count": null,
      "outputs": [
        {
          "output_type": "stream",
          "name": "stdout",
          "text": [
            "Enter your prompt: 종료\n",
            "프로그램을 종료합니다. 안녕히 가세요!\n"
          ]
        }
      ]
    },
    {
      "cell_type": "code",
      "source": [],
      "metadata": {
        "id": "swahsqWlI0cA"
      },
      "execution_count": null,
      "outputs": []
    },
    {
      "cell_type": "code",
      "source": [
        "from datetime import datetime, timedelta\n",
        "from typing import List, Dict, Optional\n",
        "import random\n",
        "\n",
        "class Dish:\n",
        "    def __init__(self, name: str, price: float, preparation_time: int):\n",
        "        self.name = name\n",
        "        self.price = price\n",
        "        self.preparation_time = preparation_time  # 분 단위\n",
        "\n",
        "class Order:\n",
        "    def __init__(self, customer_name: str, table_number: int):\n",
        "        self.id = random.randint(1000, 9999)\n",
        "        self.customer_name = customer_name\n",
        "        self.table_number = table_number\n",
        "        self.items: List[Dish] = []\n",
        "        self.status = \"대기중\"\n",
        "        self.order_time = datetime.now()\n",
        "        self.completion_time: Optional[datetime] = None\n",
        "\n",
        "    def add_item(self, dish: Dish):\n",
        "        self.items.append(dish)\n",
        "\n",
        "    def calculate_total(self) -> float:\n",
        "        return sum(item.price for item in self.items)\n",
        "\n",
        "    def estimate_completion_time(self) -> datetime:\n",
        "        total_prep_time = sum(item.preparation_time for item in self.items)\n",
        "        return self.order_time + timedelta(minutes=total_prep_time)\n",
        "\n",
        "class Restaurant:\n",
        "    def __init__(self, name: str, tables: int):\n",
        "        self.name = name\n",
        "        self.tables = tables\n",
        "        self.menu: Dict[str, Dish] = {}\n",
        "        self.active_orders: List[Order] = []\n",
        "        self.completed_orders: List[Order] = []\n",
        "        self.table_status = {i: \"비어있음\" for i in range(1, tables + 1)}\n",
        "\n",
        "    def add_to_menu(self, dish: Dish):\n",
        "        self.menu[dish.name] = dish\n",
        "\n",
        "    def create_order(self, customer_name: str, table_number: int) -> Order:\n",
        "        if self.table_status[table_number] != \"비어있음\":\n",
        "            raise ValueError(f\"테이블 {table_number}는 이미 사용중입니다.\")\n",
        "\n",
        "        order = Order(customer_name, table_number)\n",
        "        self.active_orders.append(order)\n",
        "        self.table_status[table_number] = \"사용중\"\n",
        "        return order\n",
        "\n",
        "    def add_to_order(self, order_id: int, dish_name: str):\n",
        "        order = self._find_order(order_id)\n",
        "        if order and dish_name in self.menu:\n",
        "            order.add_item(self.menu[dish_name])\n",
        "        else:\n",
        "            raise ValueError(\"주문 또는 메뉴를 찾을 수 없습니다.\")\n",
        "\n",
        "    def complete_order(self, order_id: int):\n",
        "        order = self._find_order(order_id)\n",
        "        if order:\n",
        "            order.status = \"완료\"\n",
        "            order.completion_time = datetime.now()\n",
        "            self.table_status[order.table_number] = \"비어있음\"\n",
        "            self.active_orders.remove(order)\n",
        "            self.completed_orders.append(order)\n",
        "\n",
        "    def _find_order(self, order_id: int) -> Optional[Order]:\n",
        "        return next((order for order in self.active_orders if order.id == order_id), None)\n",
        "\n",
        "    def get_daily_revenue(self) -> float:\n",
        "        today = datetime.now().date()\n",
        "        daily_orders = [order for order in self.completed_orders\n",
        "                       if order.completion_time.date() == today]\n",
        "        return sum(order.calculate_total() for order in daily_orders)\n",
        "\n",
        "    def get_busy_tables(self) -> List[int]:\n",
        "        return [table for table, status in self.table_status.items()\n",
        "                if status == \"사용중\"]\n",
        "\n",
        "# 사용 예제\n",
        "def main():\n",
        "    # 레스토랑 생성\n",
        "    restaurant = Restaurant(\"코리아 다이닝\", 10)\n",
        "\n",
        "    # 메뉴 추가\n",
        "    menu_items = [\n",
        "        Dish(\"비빔밥\", 12000, 15),\n",
        "        Dish(\"김치찌개\", 10000, 20),\n",
        "        Dish(\"불고기\", 15000, 25),\n",
        "        Dish(\"된장찌개\", 9000, 15),\n",
        "    ]\n",
        "\n",
        "    for dish in menu_items:\n",
        "        restaurant.add_to_menu(dish)\n",
        "\n",
        "    # 주문 처리\n",
        "    try:\n",
        "        # 첫 번째 주문\n",
        "        order1 = restaurant.create_order(\"김철수\", 1)\n",
        "        restaurant.add_to_order(order1.id, \"비빔밥\")\n",
        "        restaurant.add_to_order(order1.id, \"김치찌개\")\n",
        "        print(f\"주문 1 총액: {order1.calculate_total()}원\")\n",
        "        print(f\"예상 완성 시간: {order1.estimate_completion_time()}\")\n",
        "\n",
        "        # 두 번째 주문\n",
        "        order2 = restaurant.create_order(\"이영희\", 2)\n",
        "        restaurant.add_to_order(order2.id, \"불고기\")\n",
        "        print(f\"주문 2 총액: {order2.calculate_total()}원\")\n",
        "\n",
        "        # 주문 완료 처리\n",
        "        restaurant.complete_order(order1.id)\n",
        "\n",
        "        # 현재 사용중인 테이블 확인\n",
        "        print(f\"사용중인 테이블: {restaurant.get_busy_tables()}\")\n",
        "\n",
        "        # 일일 매출 확인\n",
        "        print(f\"오늘의 매출: {restaurant.get_daily_revenue()}원\")\n",
        "\n",
        "    except ValueError as e:\n",
        "        print(f\"에러 발생: {e}\")\n",
        "\n",
        "if __name__ == \"__main__\":\n",
        "    main()"
      ],
      "metadata": {
        "colab": {
          "base_uri": "https://localhost:8080/"
        },
        "id": "MeHN2RRbfP4s",
        "outputId": "8e145454-10de-42c2-ba67-9ab59d841acb"
      },
      "execution_count": null,
      "outputs": [
        {
          "output_type": "stream",
          "name": "stdout",
          "text": [
            "주문 1 총액: 22000원\n",
            "예상 완성 시간: 2024-12-23 08:23:23.335808\n",
            "주문 2 총액: 15000원\n",
            "사용중인 테이블: [2]\n",
            "오늘의 매출: 22000원\n"
          ]
        }
      ]
    },
    {
      "cell_type": "code",
      "source": [
        "import threading\n",
        "import queue\n",
        "import requests\n",
        "from bs4 import BeautifulSoup\n",
        "import json\n",
        "import time\n",
        "\n",
        "# 크롤링할 URL 리스트\n",
        "URLS = [\n",
        "    \"https://example.com\",\n",
        "    \"https://www.python.org\",\n",
        "    \"https://www.wikipedia.org\",\n",
        "    \"https://www.github.com\",\n",
        "    \"https://www.stackoverflow.com\"\n",
        "]\n",
        "\n",
        "# 작업 큐와 결과 저장소\n",
        "task_queue = queue.Queue()\n",
        "results = []\n",
        "results_lock = threading.Lock()\n",
        "\n",
        "# 웹 크롤링 작업을 처리하는 함수\n",
        "def crawl_url():\n",
        "    while not task_queue.empty():\n",
        "        try:\n",
        "            url = task_queue.get(timeout=1)\n",
        "            print(f\"크롤링 시작: {url}\")\n",
        "            response = requests.get(url, timeout=5)\n",
        "            response.raise_for_status()\n",
        "            soup = BeautifulSoup(response.text, 'html.parser')\n",
        "            title = soup.title.string if soup.title else \"제목 없음\"\n",
        "            with results_lock:\n",
        "                results.append({\"url\": url, \"title\": title})\n",
        "            print(f\"크롤링 완료: {url}\")\n",
        "        except Exception as e:\n",
        "            print(f\"에러 발생 ({url}): {e}\")\n",
        "        finally:\n",
        "            task_queue.task_done()\n",
        "\n",
        "# 크롤링 시작 함수\n",
        "def start_crawling(num_threads):\n",
        "    # 큐에 URL 추가\n",
        "    for url in URLS:\n",
        "        task_queue.put(url)\n",
        "\n",
        "    # 스레드 생성 및 시작\n",
        "    threads = []\n",
        "    for _ in range(num_threads):\n",
        "        thread = threading.Thread(target=crawl_url)\n",
        "        thread.start()\n",
        "        threads.append(thread)\n",
        "\n",
        "    # 모든 작업 완료 대기\n",
        "    task_queue.join()\n",
        "\n",
        "    # 모든 스레드가 종료되길 기다림\n",
        "    for thread in threads:\n",
        "        thread.join()\n",
        "\n",
        "# 결과를 JSON 파일로 저장\n",
        "def save_results_to_json(file_name):\n",
        "    with open(file_name, \"w\", encoding=\"utf-8\") as f:\n",
        "        json.dump(results, f, ensure_ascii=False, indent=4)\n",
        "    print(f\"결과 저장 완료: {file_name}\")\n",
        "\n",
        "if __name__ == \"__main__\":\n",
        "    start_time = time.time()\n",
        "    print(\"웹 크롤링 시작...\")\n",
        "    start_crawling(num_threads=3)  # 스레드 3개로 크롤링 실행\n",
        "    save_results_to_json(\"crawling_results.json\")\n",
        "    print(f\"총 소요 시간: {time.time() - start_time:.2f}초\")\n"
      ],
      "metadata": {
        "colab": {
          "base_uri": "https://localhost:8080/"
        },
        "id": "8H-6vRotfUAc",
        "outputId": "1547922f-6b7e-49a5-dbb7-5937b7164560"
      },
      "execution_count": null,
      "outputs": [
        {
          "output_type": "stream",
          "name": "stdout",
          "text": [
            "웹 크롤링 시작...\n",
            "크롤링 시작: https://example.com\n",
            "크롤링 시작: https://www.python.org\n",
            "크롤링 시작: https://www.wikipedia.org\n",
            "크롤링 완료: https://example.com\n",
            "크롤링 시작: https://www.github.com\n",
            "크롤링 완료: https://www.python.org\n",
            "크롤링 시작: https://www.stackoverflow.com\n",
            "크롤링 완료: https://www.wikipedia.org\n",
            "크롤링 완료: https://www.github.com\n",
            "크롤링 완료: https://www.stackoverflow.com\n",
            "결과 저장 완료: crawling_results.json\n",
            "총 소요 시간: 0.61초\n"
          ]
        }
      ]
    },
    {
      "cell_type": "code",
      "source": [
        "num1 = 10\n",
        "num2 = -20\n",
        "print(num1, num2)"
      ],
      "metadata": {
        "colab": {
          "base_uri": "https://localhost:8080/"
        },
        "id": "MqA_NxvoI369",
        "outputId": "f747107e-2744-4fd0-97d2-d2e6e8edd44f"
      },
      "execution_count": null,
      "outputs": [
        {
          "output_type": "stream",
          "name": "stdout",
          "text": [
            "10 -20\n"
          ]
        }
      ]
    },
    {
      "cell_type": "code",
      "source": [
        "num1 = 3.14\n",
        "num2 = -2.718\n",
        "print(num1, num2)"
      ],
      "metadata": {
        "colab": {
          "base_uri": "https://localhost:8080/"
        },
        "id": "1T3a6-nZI5YG",
        "outputId": "52cb4460-1af8-434e-984f-901f77a07cc3"
      },
      "execution_count": null,
      "outputs": [
        {
          "output_type": "stream",
          "name": "stdout",
          "text": [
            "3.14 -2.718\n"
          ]
        }
      ]
    },
    {
      "cell_type": "code",
      "source": [
        "str1 = 'Hello'\n",
        "str2 = \"Python\"\n",
        "print(str1, str2)"
      ],
      "metadata": {
        "colab": {
          "base_uri": "https://localhost:8080/"
        },
        "id": "zQrxffX8JZpm",
        "outputId": "38370bc9-82e1-4970-fbc8-d8384765fc35"
      },
      "execution_count": null,
      "outputs": [
        {
          "output_type": "stream",
          "name": "stdout",
          "text": [
            "Hello Python\n"
          ]
        }
      ]
    },
    {
      "cell_type": "code",
      "source": [
        "str3 = '''This is\n",
        "a multi-line\n",
        "string.'''\n",
        "print(str3)"
      ],
      "metadata": {
        "colab": {
          "base_uri": "https://localhost:8080/"
        },
        "id": "PCcQl9tFJn0-",
        "outputId": "f926ff63-bb06-4939-e18a-85427a12f045"
      },
      "execution_count": null,
      "outputs": [
        {
          "output_type": "stream",
          "name": "stdout",
          "text": [
            "This is\n",
            "a multi-line\n",
            "string.\n"
          ]
        }
      ]
    },
    {
      "cell_type": "markdown",
      "source": [
        "text = \"Python\"\n",
        "print(text[0]) # 출력: P\n",
        "print(text[-1]) # 출력: n (뒤에서 첫 번째 문자)"
      ],
      "metadata": {
        "id": "v538k14TOWZu"
      }
    },
    {
      "cell_type": "code",
      "source": [
        "text = \"Hello, Python\"\n",
        "print(text[0:7]) # 출력: Pyt\n",
        "print(text[::2]) # 출력: Pto (2칸씩 건너뜀)\n",
        "print(text[::-1]) # 출력: nohtyP ,olleH (역순)\n",
        "print(text[4::1]) # 출력: Hello, Python (정순)\n",
        "print(text[4::-3]) # 출력: nohtyP ,olleH (역순)"
      ],
      "metadata": {
        "colab": {
          "base_uri": "https://localhost:8080/"
        },
        "id": "r4GyL4g5Obw-",
        "outputId": "bf51c52d-909d-42f7-f928-1bb9a6f71ea6"
      },
      "execution_count": null,
      "outputs": [
        {
          "output_type": "stream",
          "name": "stdout",
          "text": [
            "Hello, \n",
            "Hlo yhn\n",
            "nohtyP ,olleH\n",
            "o, Python\n",
            "oe\n"
          ]
        }
      ]
    },
    {
      "cell_type": "code",
      "source": [
        "text = \"Python\"\n",
        "print(text.upper()) # 출력: PYTHON\n",
        "print(text.lower()) # 출력: python"
      ],
      "metadata": {
        "colab": {
          "base_uri": "https://localhost:8080/"
        },
        "id": "UOJW5VbCZ0Nn",
        "outputId": "d7d14de5-6029-4a5b-9f6b-c01b65b2964e"
      },
      "execution_count": null,
      "outputs": [
        {
          "output_type": "stream",
          "name": "stdout",
          "text": [
            "PYTHON\n",
            "python\n"
          ]
        }
      ]
    },
    {
      "cell_type": "code",
      "source": [
        "text = \"banana\"\n",
        "print(text.find('a')) # 출력: 1 (첫 번째 'a'의 위치)\n",
        "print(text.count('a')) # 출력: 3"
      ],
      "metadata": {
        "colab": {
          "base_uri": "https://localhost:8080/"
        },
        "id": "haiPY68bZ2u_",
        "outputId": "29029a86-3f8c-41de-f97e-b1375fcf4f87"
      },
      "execution_count": null,
      "outputs": [
        {
          "output_type": "stream",
          "name": "stdout",
          "text": [
            "1\n",
            "3\n"
          ]
        }
      ]
    },
    {
      "cell_type": "code",
      "source": [
        "text = \"Bookkeeper\"\n",
        "print(text.find('k')) # 출력: 1 (첫 번째 'a'의 위치)\n",
        "print(text.count('k')) # 출력: 3"
      ],
      "metadata": {
        "colab": {
          "base_uri": "https://localhost:8080/"
        },
        "id": "vQxr1p9eappP",
        "outputId": "50c5dbe3-6e26-429e-d842-83d9abc931f4"
      },
      "execution_count": null,
      "outputs": [
        {
          "output_type": "stream",
          "name": "stdout",
          "text": [
            "3\n",
            "2\n"
          ]
        }
      ]
    },
    {
      "cell_type": "code",
      "source": [
        "text = \" - Hello World - \"\n",
        "print(text.strip()) # 출력: \"Hello World\"\n",
        "print(text.rstrip()) # 출력: \" Hello World\"\n",
        "print(text.lstrip()) # 출력: \" Hello World\"\n",
        "print(text) # 출력: \"Hello World\""
      ],
      "metadata": {
        "colab": {
          "base_uri": "https://localhost:8080/"
        },
        "id": "f7BjAiNVaCsv",
        "outputId": "b4657490-3cb4-47ab-f252-f5632f8c3a1a"
      },
      "execution_count": null,
      "outputs": [
        {
          "output_type": "stream",
          "name": "stdout",
          "text": [
            "- Hello World -\n",
            " - Hello World -\n",
            "- Hello World - \n",
            " - Hello World - \n"
          ]
        }
      ]
    },
    {
      "cell_type": "code",
      "source": [
        "text = \"Python is fun\"\n",
        "words = text.split() # 공백 기준으로 분할\n",
        "print(words) # 출력: ['Python', 'is', 'fun’]\n",
        "joined_text = ' '.join(words)\n",
        "print(joined_text) # 출력: \"Python is fun\""
      ],
      "metadata": {
        "colab": {
          "base_uri": "https://localhost:8080/"
        },
        "id": "sj1iUSFeaDKV",
        "outputId": "c40dc5b5-fc95-4d00-cb3b-d818926dfdf2"
      },
      "execution_count": null,
      "outputs": [
        {
          "output_type": "stream",
          "name": "stdout",
          "text": [
            "['Python', 'is', 'fun']\n",
            "Python is fun\n"
          ]
        }
      ]
    },
    {
      "cell_type": "code",
      "source": [
        "name1 = \"Alice\"\n",
        "age1 = 30\n",
        "print(f\"My name is {name1} and I am {age1} years old.\")\n",
        "# [예시: 구버전]\n",
        "name2 = \"Jack\"\n",
        "age2 = 25\n",
        "text = \"My name is %s and I am %d years old.\" % (name2, age2)\n",
        "print(text) # 출력: My name is Jack and I am 25 years old."
      ],
      "metadata": {
        "colab": {
          "base_uri": "https://localhost:8080/"
        },
        "id": "Z3gBlMxpaDWH",
        "outputId": "5ab3df1b-15a8-4873-c39d-fc0cf6ccb10b"
      },
      "execution_count": null,
      "outputs": [
        {
          "output_type": "stream",
          "name": "stdout",
          "text": [
            "My name is Alice and I am 30 years old.\n",
            "My name is Jack and I am 25 years old.\n"
          ]
        }
      ]
    },
    {
      "cell_type": "code",
      "source": [
        "name = \"Alice\"\n",
        "age = 30\n",
        "print(f\"My name is {name} \\\\\\ and I am {age} years old.\")"
      ],
      "metadata": {
        "colab": {
          "base_uri": "https://localhost:8080/"
        },
        "id": "-C0rO7koaEQP",
        "outputId": "8fa1751f-c1bc-420c-f063-7d9af546db2a"
      },
      "execution_count": null,
      "outputs": [
        {
          "output_type": "stream",
          "name": "stdout",
          "text": [
            "My name is Alice \\\\ and I am 30 years old.\n"
          ]
        }
      ]
    },
    {
      "cell_type": "code",
      "source": [
        "print(\"Hello\\nPython\") # 출력: Hello (줄바꿈) Python\n",
        "print(\"탭을\\t사용한\\t예시\") # 출력: 탭을 사용한 예시\n",
        "print(\"백슬래시는 이렇게 \\\\ 출력\") # 백슬래시는 이렇게 \\ 출력"
      ],
      "metadata": {
        "colab": {
          "base_uri": "https://localhost:8080/"
        },
        "id": "uPBeWLAeaEkP",
        "outputId": "3142490f-293b-4158-a08b-f89efa61f8df"
      },
      "execution_count": null,
      "outputs": [
        {
          "output_type": "stream",
          "name": "stdout",
          "text": [
            "Hello\n",
            "Python\n",
            "탭을\t사용한\t예시\n",
            "백슬래시는 이렇게 \\ 출력\n"
          ]
        }
      ]
    },
    {
      "cell_type": "code",
      "source": [
        "a= True\n",
        "b=False\n",
        "print(a and b) # False\n",
        "print(a or b) # True\n",
        "print(not a) # False"
      ],
      "metadata": {
        "colab": {
          "base_uri": "https://localhost:8080/"
        },
        "id": "_oROJTRiaExf",
        "outputId": "0aa798a9-9144-4187-8e24-3fa237af282c"
      },
      "execution_count": null,
      "outputs": [
        {
          "output_type": "stream",
          "name": "stdout",
          "text": [
            "False\n",
            "True\n",
            "False\n"
          ]
        }
      ]
    },
    {
      "cell_type": "code",
      "source": [
        "is_authenticated = True\n",
        "has_permission = False\n",
        "if is_authenticated and has_permission:\n",
        "  print(\"접근 허용\")\n",
        "else:\n",
        "  print(\"접근 거부\")"
      ],
      "metadata": {
        "colab": {
          "base_uri": "https://localhost:8080/"
        },
        "id": "K_fB6RHzel_f",
        "outputId": "54869ad7-b231-4ef3-a8c6-154db1e2a31f"
      },
      "execution_count": null,
      "outputs": [
        {
          "output_type": "stream",
          "name": "stdout",
          "text": [
            "접근 거부\n"
          ]
        }
      ]
    },
    {
      "cell_type": "code",
      "source": [
        "# [빈 리스트 생성]\n",
        "empty_list = []\n",
        "# [초기값 설정]\n",
        "numbers = [1, 2, 3, 4, 5]\n",
        "fruits = [\"apple\", \"banana\", \"cherry\"]\n",
        "print(fruits[0]) # apple\n",
        "print(numbers[2]) # 3\n",
        "print(numbers[-1]) # 5\n",
        "print(fruits[0:2]) #"
      ],
      "metadata": {
        "colab": {
          "base_uri": "https://localhost:8080/"
        },
        "id": "8slSfmf1gH0T",
        "outputId": "67e06646-735b-4526-a0aa-4b7685d02c9c"
      },
      "execution_count": null,
      "outputs": [
        {
          "output_type": "stream",
          "name": "stdout",
          "text": [
            "apple\n",
            "3\n",
            "5\n",
            "['apple', 'banana']\n"
          ]
        }
      ]
    },
    {
      "cell_type": "code",
      "source": [
        "numbers = [3, 1, 4, 1, 5]\n",
        "\n",
        "numbers.append(9)\n",
        "print(numbers)\n",
        "desc_numbers = sorted(numbers, reverse=True)\n",
        "print(desc_numbers)\n",
        "numbers.remove(1)\n",
        "print(numbers)\n",
        "removed_item = numbers.pop(2)\n",
        "print(numbers)\n",
        "print(removed_item)\n",
        "numbers.reverse()\n",
        "print(numbers)\n",
        "numbers.sort()\n",
        "print(numbers)\n",
        "numbers.sort(reverse=True)\n",
        "print(numbers)\n",
        "\n",
        "print(numbers) # [9, 5, 4, 3]\n",
        "# 리스트 요소 개수 세기 (count)\n",
        "count = numbers.count(5)\n",
        "print(count) # 1\n",
        "# 리스트 복사 (copy)\n",
        "new_numbers = numbers.copy()\n",
        "print(new_numbers) # [9, 5, 4, 3]\n",
        "# 리스트 확장 (extend)\n",
        "numbers.extend([6, 7, 8])\n",
        "print(numbers) # [9, 5, 4, 3, 6, 7, 8]\n",
        "# 리스트 합치기 (concatenate)\n",
        "another_list = [10, 11, 12]\n",
        "combined_list = numbers + another_list\n",
        "print(combined_list) # [9, 5, 4, 3, 6, 7, 8, 10, 11, 12]\n",
        "\n"
      ],
      "metadata": {
        "colab": {
          "base_uri": "https://localhost:8080/"
        },
        "id": "02p5QAYBgIJP",
        "outputId": "1e0b72e2-639e-4519-f296-c1e7ed097549"
      },
      "execution_count": null,
      "outputs": [
        {
          "output_type": "stream",
          "name": "stdout",
          "text": [
            "[3, 1, 4, 1, 5, 9]\n",
            "[9, 5, 4, 3, 1, 1]\n",
            "[3, 4, 1, 5, 9]\n",
            "[3, 4, 5, 9]\n",
            "1\n",
            "[9, 5, 4, 3]\n",
            "[3, 4, 5, 9]\n",
            "[9, 5, 4, 3]\n",
            "[9, 5, 4, 3]\n",
            "1\n",
            "[9, 5, 4, 3]\n",
            "[9, 5, 4, 3, 6, 7, 8]\n",
            "[9, 5, 4, 3, 6, 7, 8, 10, 11, 12]\n"
          ]
        }
      ]
    },
    {
      "cell_type": "code",
      "source": [
        "# [빈 튜플 생성]\n",
        "empty_tuple = ()\n",
        "#[한 개의 요소를 가진 튜플 : 단일 요소일 떄는 콤마가 필요]\n",
        "single_element = (5,)\n",
        "\n",
        "#[인덱스로 접근]\n",
        "colors = (\"red\", \"green\", \"blue\")\n",
        "print(colors[1]) # green\n",
        "#[슬라이싱]\n",
        "colors = (\"red\", \"green\", \"blue\")\n",
        "print(colors[0:2]) # ('red', 'green')"
      ],
      "metadata": {
        "colab": {
          "base_uri": "https://localhost:8080/"
        },
        "id": "MwV6JtHiqFx2",
        "outputId": "98bdc3c4-464e-4ffc-a2ea-108fd4416dac"
      },
      "execution_count": null,
      "outputs": [
        {
          "output_type": "stream",
          "name": "stdout",
          "text": [
            "green\n",
            "('red', 'green')\n"
          ]
        }
      ]
    },
    {
      "cell_type": "code",
      "source": [
        "# 특정 값의 개수 세기 (count)\n",
        "numbers = (1, 2, 3, 2, 4)\n",
        "print(numbers.count(2)) # 2 (2가 두 번 등장)\n",
        "# 특정 값의 인덱스 찾기 (index)\n",
        "print(numbers.index(3)) # 2 (3의 인덱스)\n",
        "#[예제]\n",
        "point = (3, 4)\n",
        "print(\"x 좌표:\", point[0])\n",
        "print(\"y 좌표:\", point[1])\n",
        "#➔ 결과 : x 좌표: 3, y 좌표: 4"
      ],
      "metadata": {
        "colab": {
          "base_uri": "https://localhost:8080/"
        },
        "id": "lW-zni1Irkmd",
        "outputId": "eb6e42f1-4624-405d-b22e-57759ad805dd"
      },
      "execution_count": null,
      "outputs": [
        {
          "output_type": "stream",
          "name": "stdout",
          "text": [
            "2\n",
            "2\n",
            "x 좌표: 3\n",
            "y 좌표: 4\n"
          ]
        }
      ]
    },
    {
      "cell_type": "code",
      "source": [
        "#[빈 딕셔너리 생성]\n",
        "empty_tuple = {}\n",
        "#[초기값 설정]\n",
        "person = {\"name\": \"Bob\", \"age\": 30, \"city\": \"New York\"}\n",
        "print(person[\"name\"]) # Bob\n",
        "print(person)\n",
        "\n",
        "#[키를 통해 값 접근]\n",
        "person = {\"name\": \"Bob\", \"age\": 30, \"city\": \"New York\"}\n",
        "\n",
        "#[값 수정]\n",
        "person[\"age\"] = 31\n",
        "print(person[\"age\"]) # 31"
      ],
      "metadata": {
        "colab": {
          "base_uri": "https://localhost:8080/"
        },
        "id": "_jRINTgMsL-O",
        "outputId": "28a6d8a2-a315-485f-ef23-0cb21ddccf27"
      },
      "execution_count": null,
      "outputs": [
        {
          "output_type": "stream",
          "name": "stdout",
          "text": [
            "Bob\n",
            "{'name': 'Bob', 'age': 30, 'city': 'New York'}\n",
            "31\n"
          ]
        }
      ]
    },
    {
      "cell_type": "code",
      "source": [
        "# 키에 대응하는 값 반환 (get)\n",
        "info = {\"name\": \"Charlie\", \"age\": 22, \"city\": \"New York\"}\n",
        "print(info.get(\"name\")) # Charlie\n",
        "print(info.get(\"age\")) # 22\n",
        "print(info.get(\"city\")) # New York\n",
        "# 모든 키를 반환 (keys)\n",
        "print(info.keys()) # dict_keys(['name', 'age’]\n",
        "# 모든 값을 반환 (values)\n",
        "print(info.values()) # dict_values(['Charlie', 22])\n",
        "# 키-값 쌍을 튜플 형태로 반환 (items)\n",
        "print(info.items()) # dict_items([('name', 'Charlie'), ('age', 22), ('city', 'New York)])"
      ],
      "metadata": {
        "colab": {
          "base_uri": "https://localhost:8080/"
        },
        "id": "AH_CQHN3sdXm",
        "outputId": "d8032bd9-31cf-4d1c-a885-2539d5cd1b12"
      },
      "execution_count": null,
      "outputs": [
        {
          "output_type": "stream",
          "name": "stdout",
          "text": [
            "Charlie\n",
            "22\n",
            "New York\n",
            "dict_keys(['name', 'age', 'city'])\n",
            "dict_values(['Charlie', 22, 'New York'])\n",
            "dict_items([('name', 'Charlie'), ('age', 22), ('city', 'New York')])\n"
          ]
        }
      ]
    },
    {
      "cell_type": "code",
      "source": [
        "# prompt: 사용자로부터 입력받은 숫자가 짝수인지 홀수인지 판별하는 프로그램을 작성하세요.\n",
        "# 힌트: input() 함수를 사용합니다.\n",
        "\n",
        "def check_even_odd():\n",
        "    while True:\n",
        "        try:\n",
        "            num = int(input(\"숫자를 입력하세요: \"))\n",
        "            if num % 2 == 0:\n",
        "                print(f\"{num}은(는) 짝수입니다.\")\n",
        "            else:\n",
        "                print(f\"{num}은(는) 홀수입니다.\")\n",
        "            break  # Valid input, exit the loop\n",
        "        except ValueError:\n",
        "            print(\"잘못된 입력입니다. 숫자를 입력하세요.\")\n",
        "\n",
        "check_even_odd()"
      ],
      "metadata": {
        "id": "pKF593bzxSt_"
      },
      "execution_count": null,
      "outputs": []
    },
    {
      "cell_type": "code",
      "source": [
        "# prompt: 1부터 10까지의 숫자 중 홀수만 출력하는 프로그램을 작성하세요.\n",
        "# 반복문으로\n",
        "\n",
        "for i in range(1, 11):\n",
        "  if i % 2 != 0:\n",
        "print(i)"
      ],
      "metadata": {
        "colab": {
          "base_uri": "https://localhost:8080/",
          "height": 110
        },
        "id": "v680RfZ2ICDe",
        "outputId": "dfc9f65f-e923-46ee-9648-9780646bd485"
      },
      "execution_count": null,
      "outputs": [
        {
          "output_type": "error",
          "ename": "IndentationError",
          "evalue": "expected an indented block after 'if' statement on line 5 (<ipython-input-15-65a30015e847>, line 6)",
          "traceback": [
            "\u001b[0;36m  File \u001b[0;32m\"<ipython-input-15-65a30015e847>\"\u001b[0;36m, line \u001b[0;32m6\u001b[0m\n\u001b[0;31m    print(i)\u001b[0m\n\u001b[0m            ^\u001b[0m\n\u001b[0;31mIndentationError\u001b[0m\u001b[0;31m:\u001b[0m expected an indented block after 'if' statement on line 5\n"
          ]
        }
      ]
    },
    {
      "cell_type": "code",
      "source": [
        "# prompt: for i in range(1, 11):\n",
        "#     if i % 2 != 0:\n",
        "# i\n",
        "# 이 코드는 오류가 나와\n",
        "\n",
        "for i in range(1, 11):\n",
        "    if i % 2 != 0:\n",
        "i"
      ],
      "metadata": {
        "colab": {
          "base_uri": "https://localhost:8080/",
          "height": 110
        },
        "id": "qAZG_-5gIsc-",
        "outputId": "d6ec5e29-847a-4ea2-8c12-b299c4d3052c"
      },
      "execution_count": null,
      "outputs": [
        {
          "output_type": "error",
          "ename": "IndentationError",
          "evalue": "expected an indented block after 'if' statement on line 7 (<ipython-input-16-e08cf4f2a29a>, line 8)",
          "traceback": [
            "\u001b[0;36m  File \u001b[0;32m\"<ipython-input-16-e08cf4f2a29a>\"\u001b[0;36m, line \u001b[0;32m8\u001b[0m\n\u001b[0;31m    i\u001b[0m\n\u001b[0m     ^\u001b[0m\n\u001b[0;31mIndentationError\u001b[0m\u001b[0;31m:\u001b[0m expected an indented block after 'if' statement on line 7\n"
          ]
        }
      ]
    },
    {
      "cell_type": "code",
      "source": [
        "score = 85\n",
        "if score > 80:\n",
        "  print(\"테스트에 합격하셨습니다.\")\n",
        "\n",
        "\n",
        "number = 5\n",
        "if number % 2 == 0: # %는 나머지를 구하는 연산자\n",
        "  print(\"짝수입니다.\")\n",
        "else:\n",
        "  print(\"홀수입니다.\")"
      ],
      "metadata": {
        "colab": {
          "base_uri": "https://localhost:8080/"
        },
        "id": "fHfr4KMvPsNT",
        "outputId": "c5187a8e-5ffd-489f-ab92-054f6854a169"
      },
      "execution_count": null,
      "outputs": [
        {
          "output_type": "stream",
          "name": "stdout",
          "text": [
            "테스트에 합격하셨습니다.\n",
            "홀수입니다.\n"
          ]
        }
      ]
    },
    {
      "cell_type": "code",
      "source": [
        "score = 85\n",
        "if score >= 90:\n",
        "  print(\"A학점\")\n",
        "elif score >= 80:\n",
        "  print(\"B학점\")\n",
        "else:\n",
        "  print(\"C학점\")\n",
        "\n",
        "x, y = 10, 20\n",
        "if x > 5 and y < 30:\n",
        "  print(\"조건을 만족합니다.\")"
      ],
      "metadata": {
        "colab": {
          "base_uri": "https://localhost:8080/"
        },
        "id": "Y8xrgKxKQG63",
        "outputId": "4e27fedd-9436-46ea-8686-00e6b8ef6d2f"
      },
      "execution_count": null,
      "outputs": [
        {
          "output_type": "stream",
          "name": "stdout",
          "text": [
            "B학점\n",
            "조건을 만족합니다.\n"
          ]
        }
      ]
    },
    {
      "cell_type": "code",
      "source": [
        "numbers = [1, 2, 3, 4, 5]\n",
        "for num in numbers:\n",
        " print(num * 2, end = \" \")"
      ],
      "metadata": {
        "colab": {
          "base_uri": "https://localhost:8080/"
        },
        "id": "yuQjJMjcQahf",
        "outputId": "64c6b2d8-5776-4d9e-a2f7-4ad7eec5a3dd"
      },
      "execution_count": null,
      "outputs": [
        {
          "output_type": "stream",
          "name": "stdout",
          "text": [
            "2 4 6 8 10 "
          ]
        }
      ]
    },
    {
      "cell_type": "code",
      "source": [
        "for i in range(1, 6):\n",
        "  print(f\"현재 값: {i}\", end = \" \")"
      ],
      "metadata": {
        "colab": {
          "base_uri": "https://localhost:8080/"
        },
        "id": "w5Zn6LwIQlWD",
        "outputId": "d8c836eb-df57-4ac3-db33-c440446b191a"
      },
      "execution_count": null,
      "outputs": [
        {
          "output_type": "stream",
          "name": "stdout",
          "text": [
            "현재 값: 1 현재 값: 2 현재 값: 3 현재 값: 4 현재 값: 5 "
          ]
        }
      ]
    },
    {
      "cell_type": "code",
      "source": [
        "# prompt: 두 개의 숫자를 입력받아 합을 반환하는 함수를 작성하세요.\n",
        "# 힌트: def 키워드를 사용합니다.\n",
        "\n",
        "def sum_two_numbers(a, b):\n",
        "  \"\"\"두 개의 숫자를 입력받아 합을 반환하는 함수입니다.\n",
        "\n",
        "  Args:\n",
        "    a: 첫 번째 숫자.\n",
        "    b: 두 번째 숫자.\n",
        "\n",
        "  Returns:\n",
        "    두 숫자의 합.\n",
        "  \"\"\"\n",
        "  return a + b"
      ],
      "metadata": {
        "id": "g8hQHgOLRmUP"
      },
      "execution_count": null,
      "outputs": []
    },
    {
      "cell_type": "code",
      "source": [
        "for i in range(1, 4):\n",
        " for j in range(1, 3):\n",
        "   print(f\" i: {i}, j: {j}\")"
      ],
      "metadata": {
        "colab": {
          "base_uri": "https://localhost:8080/"
        },
        "id": "gLTXtxCjSPgf",
        "outputId": "3adf1c28-86c7-4ee1-fe86-a4c45f2d2796"
      },
      "execution_count": null,
      "outputs": [
        {
          "output_type": "stream",
          "name": "stdout",
          "text": [
            " i: 1, j: 1\n",
            " i: 1, j: 2\n",
            " i: 2, j: 1\n",
            " i: 2, j: 2\n",
            " i: 3, j: 1\n",
            " i: 3, j: 2\n"
          ]
        }
      ]
    },
    {
      "cell_type": "code",
      "source": [
        "items = [\"A\", \"B\", \"C\"]\n",
        "for idx, item in enumerate(items):\n",
        " print(f\"인덱스 {idx}: {item}\")"
      ],
      "metadata": {
        "colab": {
          "base_uri": "https://localhost:8080/"
        },
        "id": "wfWZwHgxSns_",
        "outputId": "fd003bbc-2a43-4399-a178-fe3fccf90226"
      },
      "execution_count": null,
      "outputs": [
        {
          "output_type": "stream",
          "name": "stdout",
          "text": [
            "인덱스 0: A\n",
            "인덱스 1: B\n",
            "인덱스 2: C\n"
          ]
        }
      ]
    },
    {
      "cell_type": "code",
      "source": [
        "count = 0\n",
        "while count < 5:\n",
        "  #count += 1\n",
        "  print(f\"count: {count}\")\n",
        "  count += 1\n"
      ],
      "metadata": {
        "colab": {
          "base_uri": "https://localhost:8080/"
        },
        "id": "Nnt3OZNuTRRs",
        "outputId": "ee8a0d75-0607-4243-fe25-1502a09d1a58"
      },
      "execution_count": null,
      "outputs": [
        {
          "output_type": "stream",
          "name": "stdout",
          "text": [
            "count: 0\n",
            "count: 1\n",
            "count: 2\n",
            "count: 3\n",
            "count: 4\n"
          ]
        }
      ]
    },
    {
      "cell_type": "code",
      "source": [
        "while True:\n",
        "  user_input=input(\"종료하면 'exit'를 입력하세요: \")\n",
        "  if user_input == \"exit\":\n",
        "    break"
      ],
      "metadata": {
        "colab": {
          "base_uri": "https://localhost:8080/"
        },
        "id": "5_ktCecgUerH",
        "outputId": "38fb80cd-0fce-47c5-9a1a-7544489d9869"
      },
      "execution_count": null,
      "outputs": [
        {
          "name": "stdout",
          "output_type": "stream",
          "text": [
            "종료하면 'exit'를 입력하세요: sadfasd\n",
            "종료하면 'exit'를 입력하세요: asdfasdf\n",
            "종료하면 'exit'를 입력하세요: asdfasdfasd\n",
            "종료하면 'exit'를 입력하세요: asdfasdfasd\n",
            "종료하면 'exit'를 입력하세요: asdkjlhfajsd\n",
            "종료하면 'exit'를 입력하세요: asdfjasdf\n",
            "종료하면 'exit'를 입력하세요: asdkflasd\n",
            "종료하면 'exit'를 입력하세요: asdkflasdf\n",
            "종료하면 'exit'를 입력하세요: weqrqwe\n",
            "종료하면 'exit'를 입력하세요: qwerqwe\n",
            "종료하면 'exit'를 입력하세요: qwer\n",
            "종료하면 'exit'를 입력하세요: qwerwqe\n",
            "종료하면 'exit'를 입력하세요: exit\n"
          ]
        }
      ]
    },
    {
      "cell_type": "code",
      "source": [
        "x = 5\n",
        "while x > 0:\n",
        "  print(x, end = \" \")\n",
        "  x -= 1\n",
        "else:\n",
        "  print(\"반복 종료\")"
      ],
      "metadata": {
        "colab": {
          "base_uri": "https://localhost:8080/"
        },
        "id": "tSc9oB-aVXyn",
        "outputId": "e5ef8095-15f7-4d94-c52f-e19a4ea10fa5"
      },
      "execution_count": null,
      "outputs": [
        {
          "output_type": "stream",
          "name": "stdout",
          "text": [
            "5 4 3 2 1 반복 종료\n"
          ]
        }
      ]
    },
    {
      "cell_type": "code",
      "source": [
        "n = 0\n",
        "while n < 100:\n",
        "  n += 1\n",
        "  if n % 2 == 0:\n",
        "    continue\n",
        "  print(n)\n",
        "  if n == 7:\n",
        "    break"
      ],
      "metadata": {
        "colab": {
          "base_uri": "https://localhost:8080/"
        },
        "id": "KdH1DEJsVuvP",
        "outputId": "0791f81c-25f0-4795-a9ce-7e9c742ee574"
      },
      "execution_count": null,
      "outputs": [
        {
          "output_type": "stream",
          "name": "stdout",
          "text": [
            "1\n",
            "3\n",
            "5\n",
            "7\n"
          ]
        }
      ]
    },
    {
      "cell_type": "code",
      "source": [
        "print(\"Hello, World!\")"
      ],
      "metadata": {
        "colab": {
          "base_uri": "https://localhost:8080/"
        },
        "id": "Bzvyg3uAZjxf",
        "outputId": "15566e9e-2853-4863-febe-b67cf0a4616e"
      },
      "execution_count": null,
      "outputs": [
        {
          "output_type": "stream",
          "name": "stdout",
          "text": [
            "Hello, World!\n"
          ]
        }
      ]
    },
    {
      "cell_type": "code",
      "source": [
        "10 +10"
      ],
      "metadata": {
        "colab": {
          "base_uri": "https://localhost:8080/"
        },
        "id": "l2XQgwAbbKv6",
        "outputId": "6ed26633-8f3c-49f6-a0da-817654c8beab"
      },
      "execution_count": null,
      "outputs": [
        {
          "output_type": "execute_result",
          "data": {
            "text/plain": [
              "20"
            ]
          },
          "metadata": {},
          "execution_count": 57
        }
      ]
    },
    {
      "cell_type": "code",
      "source": [
        "10 -5"
      ],
      "metadata": {
        "colab": {
          "base_uri": "https://localhost:8080/"
        },
        "id": "ZhId71z6bMsJ",
        "outputId": "fe645438-d58a-45e2-cde8-85efd1da7d97"
      },
      "execution_count": null,
      "outputs": [
        {
          "output_type": "execute_result",
          "data": {
            "text/plain": [
              "5"
            ]
          },
          "metadata": {},
          "execution_count": 58
        }
      ]
    },
    {
      "cell_type": "code",
      "source": [
        "10 * 5"
      ],
      "metadata": {
        "colab": {
          "base_uri": "https://localhost:8080/"
        },
        "id": "8oiCqYuybOvW",
        "outputId": "0ddd1358-e6d8-4b2c-c877-d4f5760492c9"
      },
      "execution_count": null,
      "outputs": [
        {
          "output_type": "execute_result",
          "data": {
            "text/plain": [
              "50"
            ]
          },
          "metadata": {},
          "execution_count": 59
        }
      ]
    },
    {
      "cell_type": "code",
      "source": [
        "100/5"
      ],
      "metadata": {
        "colab": {
          "base_uri": "https://localhost:8080/"
        },
        "id": "dFpiNzk6bQsG",
        "outputId": "d62a44a4-fcba-41ed-a740-b56d40145b4e"
      },
      "execution_count": null,
      "outputs": [
        {
          "output_type": "execute_result",
          "data": {
            "text/plain": [
              "20.0"
            ]
          },
          "metadata": {},
          "execution_count": 60
        }
      ]
    },
    {
      "cell_type": "code",
      "source": [
        "10**2"
      ],
      "metadata": {
        "colab": {
          "base_uri": "https://localhost:8080/"
        },
        "id": "SmIayyv9bTYW",
        "outputId": "a86afccf-83bd-418d-e7bc-c94c9abbcaa6"
      },
      "execution_count": null,
      "outputs": [
        {
          "output_type": "execute_result",
          "data": {
            "text/plain": [
              "100"
            ]
          },
          "metadata": {},
          "execution_count": 61
        }
      ]
    },
    {
      "cell_type": "code",
      "source": [
        "(2+3)*((3+5)*5)"
      ],
      "metadata": {
        "colab": {
          "base_uri": "https://localhost:8080/"
        },
        "id": "MCJMrzV6bVce",
        "outputId": "2f137c27-5b8e-4c88-e6a2-c81d17a0d454"
      },
      "execution_count": null,
      "outputs": [
        {
          "output_type": "execute_result",
          "data": {
            "text/plain": [
              "200"
            ]
          },
          "metadata": {},
          "execution_count": 62
        }
      ]
    },
    {
      "cell_type": "code",
      "source": [
        "a = 3\n",
        "b = 5\n",
        "abs(a-b)"
      ],
      "metadata": {
        "colab": {
          "base_uri": "https://localhost:8080/"
        },
        "id": "rCk4OtPwbcG-",
        "outputId": "9365eb2a-5e00-4796-d647-2fbcb0e0fd2b"
      },
      "execution_count": null,
      "outputs": [
        {
          "output_type": "execute_result",
          "data": {
            "text/plain": [
              "2"
            ]
          },
          "metadata": {},
          "execution_count": 63
        }
      ]
    },
    {
      "cell_type": "code",
      "source": [
        "a = 8\n",
        "print(a)"
      ],
      "metadata": {
        "colab": {
          "base_uri": "https://localhost:8080/"
        },
        "id": "njErz8Odbg7O",
        "outputId": "7816c52c-b4dc-47cb-c77f-78cbebe2e888"
      },
      "execution_count": null,
      "outputs": [
        {
          "output_type": "stream",
          "name": "stdout",
          "text": [
            "8\n"
          ]
        }
      ]
    },
    {
      "cell_type": "code",
      "source": [
        "w = 76\n",
        "h = 172\n",
        "hm = h / 100\n",
        "bmi = w / hm**2\n",
        "print(bmi)"
      ],
      "metadata": {
        "colab": {
          "base_uri": "https://localhost:8080/"
        },
        "id": "V1Y_YRtubk4G",
        "outputId": "6b8b0ba1-1232-42d5-828e-e71350006cbb"
      },
      "execution_count": null,
      "outputs": [
        {
          "output_type": "stream",
          "name": "stdout",
          "text": [
            "25.689561925365066\n"
          ]
        }
      ]
    },
    {
      "cell_type": "code",
      "source": [
        "if 35 <= bmi:\n",
        "  print(\"당신의 비만도는 고도 비만입니다 건강을 위해 매우 많이 노력하세요!\")\n",
        "elif 30 <= bmi:\n",
        "  print(\"당신의 비만도는 2단계 비만입니다 건강을 위해 많이 노력하세요!\")\n",
        "elif 25 <= bmi:\n",
        "  print(\"당신의 비만도는 1단계 비만입니다 건강을 위해 노력하세요!\")\n",
        "elif 23 <= bmi:\n",
        "  print(\"당신의 비만도는 과체중입니다 건강을 위해 조금 노력하세요!\")\n",
        "elif 18.5 <= bmi and bmi < 23:\n",
        "  print(\"당신의 비만도는 정상입니다 지금과 같은 생활을 유지해 주세요!\")\n",
        "elif 18.5 < bmi:\n",
        "  print(\"당신의 비만도는 저체중입니다 조금은 체중 증가가 필요합니다!\")"
      ],
      "metadata": {
        "colab": {
          "base_uri": "https://localhost:8080/"
        },
        "id": "nGs2LTJSbz9X",
        "outputId": "0065e8e0-9adc-46b8-b393-0fa1324b0512"
      },
      "execution_count": null,
      "outputs": [
        {
          "output_type": "stream",
          "name": "stdout",
          "text": [
            "당신의 비만도는 1단계 비만입니다 건강을 위해 노력하세요!\n"
          ]
        }
      ]
    },
    {
      "cell_type": "markdown",
      "source": [
        "#20241226"
      ],
      "metadata": {
        "id": "9zWau-lwqBkC"
      }
    },
    {
      "cell_type": "code",
      "source": [
        "#매개변수가 없는 함수\n",
        "def greet():\n",
        "  print(\"안녕하세요!!\")\n",
        "\n",
        "greet()"
      ],
      "metadata": {
        "id": "TkwDBR1BdFs_",
        "colab": {
          "base_uri": "https://localhost:8080/"
        },
        "outputId": "23cb5db6-dac1-4e3d-ced9-5d966c79985c"
      },
      "execution_count": null,
      "outputs": [
        {
          "output_type": "stream",
          "name": "stdout",
          "text": [
            "안녕하세요!!\n"
          ]
        }
      ]
    },
    {
      "cell_type": "code",
      "source": [
        "#매개변수가 있는 함수\n",
        "def add(a, b):\n",
        "  return a + b\n",
        "\n",
        "result = add(3, 5)\n",
        "print(result)"
      ],
      "metadata": {
        "colab": {
          "base_uri": "https://localhost:8080/"
        },
        "id": "9yTiyVzDa3j7",
        "outputId": "01716c20-965f-4ecc-f256-547df434df73"
      },
      "execution_count": null,
      "outputs": [
        {
          "output_type": "stream",
          "name": "stdout",
          "text": [
            "8\n"
          ]
        }
      ]
    },
    {
      "cell_type": "code",
      "source": [
        "#매개변수가 있는 함수 별도\n",
        "def add(a, b):\n",
        "  return a + b\n",
        "\n",
        "result = add(int(input(\"첫 번째 숫자를 입력하세요: \")), int(input(\"두 번째 숫자를 입력하세요: \")))\n",
        "print(result)"
      ],
      "metadata": {
        "colab": {
          "base_uri": "https://localhost:8080/"
        },
        "id": "-RwfgtMgbLHi",
        "outputId": "0570aeae-206e-40f3-a6fb-70404e8eb774"
      },
      "execution_count": null,
      "outputs": [
        {
          "output_type": "stream",
          "name": "stdout",
          "text": [
            "첫 번째 숫자를 입력하세요: 3\n",
            "두 번째 숫자를 입력하세요: 5\n",
            "8\n"
          ]
        }
      ]
    },
    {
      "cell_type": "code",
      "source": [
        "#기본값 매개변수 사용\n",
        "def greet(name = \"홍길동\"):\n",
        "  print(f\"안녕하세요, {name}님!\")\n",
        "\n",
        "greet()\n",
        "greet(\"김세진\")"
      ],
      "metadata": {
        "colab": {
          "base_uri": "https://localhost:8080/"
        },
        "id": "H_XjXFQwZJ_E",
        "outputId": "49ca178c-6759-4dbb-a216-79ef5182427c"
      },
      "execution_count": null,
      "outputs": [
        {
          "output_type": "stream",
          "name": "stdout",
          "text": [
            "안녕하세요, 홍길동님!\n",
            "안녕하세요, 김세진님!\n"
          ]
        }
      ]
    },
    {
      "cell_type": "code",
      "source": [
        "#가변 매개변수 사용\n",
        "def multiply(*args):\n",
        "  result = 1\n",
        "  for num in args:\n",
        "    result *= num\n",
        "  return result\n",
        "print(multiply(1,2,3,4)) #*args는 임의의 개수의 숫자를 받아들임"
      ],
      "metadata": {
        "colab": {
          "base_uri": "https://localhost:8080/"
        },
        "id": "M4Lz2OVwaCYT",
        "outputId": "926b5483-9e76-4e9d-ff67-6db389fe1210"
      },
      "execution_count": null,
      "outputs": [
        {
          "output_type": "stream",
          "name": "stdout",
          "text": [
            "24\n"
          ]
        }
      ]
    },
    {
      "cell_type": "code",
      "source": [
        "def check_number(num):\n",
        "  \"\"\"숫자가 양수, 음수, 또는 0인지 확인\"\"\"\n",
        "  if num > 0:\n",
        "    return \"양수입니다!\"\n",
        "  elif num < 0:\n",
        "    return \"음수입니다!\"\n",
        "  else:\n",
        "    return \"0입니다!\"\n",
        "\n",
        "print(check_number(5))\n",
        "print(check_number(-3))\n",
        "print(check_number(0))"
      ],
      "metadata": {
        "colab": {
          "base_uri": "https://localhost:8080/"
        },
        "id": "KarUQQlLbJR7",
        "outputId": "ecb81b6d-c4f2-411c-b2a3-f2b38c4fad3f"
      },
      "execution_count": null,
      "outputs": [
        {
          "output_type": "stream",
          "name": "stdout",
          "text": [
            "양수입니다!\n",
            "음수입니다!\n",
            "0입니다!\n"
          ]
        }
      ]
    },
    {
      "cell_type": "code",
      "source": [
        "def check_number(num):\n",
        "  \"\"\"숫자가 양수, 음수, 또는 0인지 확인\"\"\"\n",
        "  if num > 0:\n",
        "    return \"양수입니다!\"\n",
        "  elif num < 0:\n",
        "    return \"음수입니다!\"\n",
        "  else:\n",
        "    return \"0입니다!\"\n",
        "\n",
        "print(check_number(int(input(\"숫자를 입력하세요 : \"))))"
      ],
      "metadata": {
        "colab": {
          "base_uri": "https://localhost:8080/"
        },
        "id": "D1bcrO_DcFYt",
        "outputId": "21798548-390f-4d88-b85f-bd20552c1062"
      },
      "execution_count": null,
      "outputs": [
        {
          "output_type": "stream",
          "name": "stdout",
          "text": [
            "숫자를 입력하세요 : -2\n",
            "음수입니다!\n"
          ]
        }
      ]
    },
    {
      "cell_type": "code",
      "source": [
        "def login_check(username, password):\n",
        "  \"\"\"사용자 이름과 비밀번호를 확인\"\"\"\n",
        "  if username == \"admin\" and password == \"1234\":\n",
        "    return \"로그인 성공!\"\n",
        "  elif username == \"admin\" or password == \"1234\":\n",
        "    return \"아이디 또는 비밀번호가 잘못되었습니다!\"\n",
        "  else:\n",
        "    return \"로그인 실패!\"\n",
        "\n",
        "print(login_check(*(input(\"아이디 : \"), input(\"비밀번호 : \"))))"
      ],
      "metadata": {
        "colab": {
          "base_uri": "https://localhost:8080/"
        },
        "id": "8qPAKIWzcc2y",
        "outputId": "504c868d-2542-477d-f6db-1bc0e386624a"
      },
      "execution_count": null,
      "outputs": [
        {
          "output_type": "stream",
          "name": "stdout",
          "text": [
            "아이디 : admin\n",
            "비밀번호 : 1234\n",
            "로그인 성공!\n"
          ]
        }
      ]
    },
    {
      "cell_type": "code",
      "source": [
        "def find_max(numbers):\n",
        "  max_num = numbers[0]\n",
        "  for num in numbers:\n",
        "    if num > max_num:\n",
        "      max_num = num\n",
        "  return max_num\n",
        "\n",
        "numbers = [1,3,5,6,9]\n",
        "print(find_max(numbers))"
      ],
      "metadata": {
        "colab": {
          "base_uri": "https://localhost:8080/"
        },
        "id": "ZIsVZ2LTfLHT",
        "outputId": "a79b8dd5-09bd-4e3d-b06c-0f94c577a728"
      },
      "execution_count": null,
      "outputs": [
        {
          "output_type": "stream",
          "name": "stdout",
          "text": [
            "9\n"
          ]
        }
      ]
    },
    {
      "cell_type": "code",
      "source": [
        "def get_even_numbers(start, end):\n",
        "  even_nums = []\n",
        "  for num in range(start, end+1):\n",
        "    if num % 2 == 0:\n",
        "      even_nums.append(num)\n",
        "  return even_nums\n",
        "start = int(input(\"시작 숫자를 입력하세요: \"))\n",
        "end = int(input(\"끝 숫자를 입력하세요: \"))\n",
        "print(get_even_numbers(start, end))"
      ],
      "metadata": {
        "colab": {
          "base_uri": "https://localhost:8080/"
        },
        "id": "IGKl9Q45hMYr",
        "outputId": "fee2530a-0a71-4463-e549-a30653ae9b8f"
      },
      "execution_count": null,
      "outputs": [
        {
          "output_type": "stream",
          "name": "stdout",
          "text": [
            "시작 숫자를 입력하세요: 1\n",
            "끝 숫자를 입력하세요: 10\n",
            "[2, 4, 6, 8, 10]\n"
          ]
        }
      ]
    },
    {
      "cell_type": "code",
      "source": [
        "def saving_simulation(target_amount,monthly_saving):\n",
        "  total = 0\n",
        "  months = 0\n",
        "  while total < target_amount:\n",
        "    total += monthly_saving\n",
        "    months += 1\n",
        "    print(f\"{months}개월 차: {total: ,}월 저축\") #{total: ,}에서 콤마는 1000단위 구분\n",
        "  return f\"{months}개월 만에 목표 금액 달성!!!\"\n",
        "\n",
        "target_amount = int(input(\"목표 금액을 입력하세요: \"))\n",
        "monthly_saving = int(input(\"월 저축 금액을 입력하세요: \"))\n",
        "print(saving_simulation(target_amount,monthly_saving))"
      ],
      "metadata": {
        "colab": {
          "base_uri": "https://localhost:8080/"
        },
        "id": "tg2zkmKvif6S",
        "outputId": "85c41df4-3828-42e5-e0b8-8f68cb8c4c5d"
      },
      "execution_count": null,
      "outputs": [
        {
          "output_type": "stream",
          "name": "stdout",
          "text": [
            "목표 금액을 입력하세요: 100000000\n",
            "월 저축 금액을 입력하세요: 1000000\n",
            "1개월 차:  1,000,000월 저축\n",
            "2개월 차:  2,000,000월 저축\n",
            "3개월 차:  3,000,000월 저축\n",
            "4개월 차:  4,000,000월 저축\n",
            "5개월 차:  5,000,000월 저축\n",
            "6개월 차:  6,000,000월 저축\n",
            "7개월 차:  7,000,000월 저축\n",
            "8개월 차:  8,000,000월 저축\n",
            "9개월 차:  9,000,000월 저축\n",
            "10개월 차:  10,000,000월 저축\n",
            "11개월 차:  11,000,000월 저축\n",
            "12개월 차:  12,000,000월 저축\n",
            "13개월 차:  13,000,000월 저축\n",
            "14개월 차:  14,000,000월 저축\n",
            "15개월 차:  15,000,000월 저축\n",
            "16개월 차:  16,000,000월 저축\n",
            "17개월 차:  17,000,000월 저축\n",
            "18개월 차:  18,000,000월 저축\n",
            "19개월 차:  19,000,000월 저축\n",
            "20개월 차:  20,000,000월 저축\n",
            "21개월 차:  21,000,000월 저축\n",
            "22개월 차:  22,000,000월 저축\n",
            "23개월 차:  23,000,000월 저축\n",
            "24개월 차:  24,000,000월 저축\n",
            "25개월 차:  25,000,000월 저축\n",
            "26개월 차:  26,000,000월 저축\n",
            "27개월 차:  27,000,000월 저축\n",
            "28개월 차:  28,000,000월 저축\n",
            "29개월 차:  29,000,000월 저축\n",
            "30개월 차:  30,000,000월 저축\n",
            "31개월 차:  31,000,000월 저축\n",
            "32개월 차:  32,000,000월 저축\n",
            "33개월 차:  33,000,000월 저축\n",
            "34개월 차:  34,000,000월 저축\n",
            "35개월 차:  35,000,000월 저축\n",
            "36개월 차:  36,000,000월 저축\n",
            "37개월 차:  37,000,000월 저축\n",
            "38개월 차:  38,000,000월 저축\n",
            "39개월 차:  39,000,000월 저축\n",
            "40개월 차:  40,000,000월 저축\n",
            "41개월 차:  41,000,000월 저축\n",
            "42개월 차:  42,000,000월 저축\n",
            "43개월 차:  43,000,000월 저축\n",
            "44개월 차:  44,000,000월 저축\n",
            "45개월 차:  45,000,000월 저축\n",
            "46개월 차:  46,000,000월 저축\n",
            "47개월 차:  47,000,000월 저축\n",
            "48개월 차:  48,000,000월 저축\n",
            "49개월 차:  49,000,000월 저축\n",
            "50개월 차:  50,000,000월 저축\n",
            "51개월 차:  51,000,000월 저축\n",
            "52개월 차:  52,000,000월 저축\n",
            "53개월 차:  53,000,000월 저축\n",
            "54개월 차:  54,000,000월 저축\n",
            "55개월 차:  55,000,000월 저축\n",
            "56개월 차:  56,000,000월 저축\n",
            "57개월 차:  57,000,000월 저축\n",
            "58개월 차:  58,000,000월 저축\n",
            "59개월 차:  59,000,000월 저축\n",
            "60개월 차:  60,000,000월 저축\n",
            "61개월 차:  61,000,000월 저축\n",
            "62개월 차:  62,000,000월 저축\n",
            "63개월 차:  63,000,000월 저축\n",
            "64개월 차:  64,000,000월 저축\n",
            "65개월 차:  65,000,000월 저축\n",
            "66개월 차:  66,000,000월 저축\n",
            "67개월 차:  67,000,000월 저축\n",
            "68개월 차:  68,000,000월 저축\n",
            "69개월 차:  69,000,000월 저축\n",
            "70개월 차:  70,000,000월 저축\n",
            "71개월 차:  71,000,000월 저축\n",
            "72개월 차:  72,000,000월 저축\n",
            "73개월 차:  73,000,000월 저축\n",
            "74개월 차:  74,000,000월 저축\n",
            "75개월 차:  75,000,000월 저축\n",
            "76개월 차:  76,000,000월 저축\n",
            "77개월 차:  77,000,000월 저축\n",
            "78개월 차:  78,000,000월 저축\n",
            "79개월 차:  79,000,000월 저축\n",
            "80개월 차:  80,000,000월 저축\n",
            "81개월 차:  81,000,000월 저축\n",
            "82개월 차:  82,000,000월 저축\n",
            "83개월 차:  83,000,000월 저축\n",
            "84개월 차:  84,000,000월 저축\n",
            "85개월 차:  85,000,000월 저축\n",
            "86개월 차:  86,000,000월 저축\n",
            "87개월 차:  87,000,000월 저축\n",
            "88개월 차:  88,000,000월 저축\n",
            "89개월 차:  89,000,000월 저축\n",
            "90개월 차:  90,000,000월 저축\n",
            "91개월 차:  91,000,000월 저축\n",
            "92개월 차:  92,000,000월 저축\n",
            "93개월 차:  93,000,000월 저축\n",
            "94개월 차:  94,000,000월 저축\n",
            "95개월 차:  95,000,000월 저축\n",
            "96개월 차:  96,000,000월 저축\n",
            "97개월 차:  97,000,000월 저축\n",
            "98개월 차:  98,000,000월 저축\n",
            "99개월 차:  99,000,000월 저축\n",
            "100개월 차:  100,000,000월 저축\n",
            "100개월 만에 목표 금액 달성!!!\n"
          ]
        }
      ]
    },
    {
      "cell_type": "code",
      "source": [
        "# prompt: 개월을 년으로 계산\n",
        "\n",
        "def months_to_years(months):\n",
        "  \"\"\"Converts months to years.\"\"\"\n",
        "  return months / 12\n",
        "\n",
        "# Example usage\n",
        "months = int(input(\"Enter the number of months: \"))\n",
        "years = months_to_years(months)\n",
        "print(f\"{months} months is equal to {years} years\")"
      ],
      "metadata": {
        "colab": {
          "base_uri": "https://localhost:8080/"
        },
        "id": "0kDNZrHQj2Ps",
        "outputId": "abbf7635-474c-408c-b79b-640bd62cf595"
      },
      "execution_count": null,
      "outputs": [
        {
          "output_type": "stream",
          "name": "stdout",
          "text": [
            "Enter the number of months: 100\n",
            "100 months is equal to 8.333333333333334 years\n"
          ]
        }
      ]
    },
    {
      "cell_type": "code",
      "source": [
        "def guess_number(answer):\n",
        "  count = 0\n",
        "  guess = None\n",
        "  while guess != answer:\n",
        "    guess = int(input(\"숫자를 입력하세요: \"))\n",
        "    count += 1\n",
        "    if guess < answer:\n",
        "      print(\"더 큰 숫자입니다.\")\n",
        "    elif guess > answer:\n",
        "      print(\"더 작은 숫자입니다.\")\n",
        "  if count >= 10:\n",
        "      print(\"기회를 모두 소진하였습니다. 게임을 종료합니다.\")\n",
        "      return f\"게임을 종료합니다.\\n정답은 {answer}입니다!!!\"\n",
        "\n",
        "\n",
        "  return f\"정답입니다! {count}번 만에 맞추셨습니다.\"\n",
        "print(guess_number(int(input(\"정답을 입력하세요: \"))))"
      ],
      "metadata": {
        "colab": {
          "base_uri": "https://localhost:8080/"
        },
        "id": "8wPTKgBpkPJz",
        "outputId": "ea4d0cb1-780a-487e-bc5a-c687908c4cbb"
      },
      "execution_count": null,
      "outputs": [
        {
          "output_type": "stream",
          "name": "stdout",
          "text": [
            "정답을 입력하세요: 10\n",
            "숫자를 입력하세요: 10\n",
            "정답입니다! 1번 만에 맞추셨습니다.\n"
          ]
        }
      ]
    },
    {
      "cell_type": "code",
      "source": [
        "def normalize_data(numbers):\n",
        "  \"\"\"\n",
        " 데이터를 0~1 사이의 값으로 정규화하는 함수\n",
        " 정규화 = (값 – 최소값) / (최대값 – 최소값)\n",
        " 매개변수:\n",
        " numbers: 정규화할 숫자 리스트\n",
        " 반환값:\n",
        " 정규화된 데이터 리스트 (0~1 사이의 값)\n",
        " \"\"\"\n",
        "  min_value = min(numbers) # 데이터의 최소값\n",
        "  max_value = max(numbers) # 데이터의 최대값\n",
        "  normalized = [] #정규화된 값을 저장할 리스트\n",
        "\n",
        "  for num in numbers:\n",
        "    # 정규화 공식 적용\n",
        "    norm_value = (num - min_value) / (max_value - min_value)\n",
        "    normalized.append(norm_value)\n",
        "  return normalized\n",
        "\n",
        "data = [10, 20, 30, 40, 50]\n",
        "print(\"===== 데이터 정규화 예제 =====\")\n",
        "print(\"원본 데이터:\", data) # 출력 : 원본 데이터 : [10, 20, 30, 40, 50]\n",
        "normalized = normalize_data(data)\n",
        "print(\"정규화된 데이터:\", normalized) # 출력 : [0.0, 0.25, 0.5, 0.75, 1.0]"
      ],
      "metadata": {
        "colab": {
          "base_uri": "https://localhost:8080/"
        },
        "id": "PthEInpqnRuj",
        "outputId": "2bc2ae04-e945-4393-a3da-53d0cd48c3f0"
      },
      "execution_count": null,
      "outputs": [
        {
          "output_type": "stream",
          "name": "stdout",
          "text": [
            "===== 데이터 정규화 예제 =====\n",
            "원본 데이터: [10, 20, 30, 40, 50]\n",
            "정규화된 데이터: [0.0, 0.25, 0.5, 0.75, 1.0]\n"
          ]
        }
      ]
    },
    {
      "cell_type": "code",
      "source": [
        "def split_data(data, train_ratio=0.8):\n",
        "  \"\"\"\n",
        "  데이터를 학습용과 테스트용으로 분리하는 함수\n",
        "  매개변수:\n",
        "  data: 분할할 데이터 리스트\n",
        "  train_ratio: 학습 데이터의 비율 (기본값 0.8 = 80%)\n",
        "  반환값:\n",
        "  train_data : 학습용 데이터\n",
        "  test_data: 테스트용 데이터\n",
        "  \"\"\"\n",
        "  # 학습 데이터 개수 계산\n",
        "  split_index = int(len(data) * train_ratio) # len함수 : 문자열, 리스트, 튜플 등 길이 측정\n",
        "  # 데이터 분할\n",
        "  train_data = data[:split_index] # 처음부터 split_index까지\n",
        "  test_data = data[split_index:] # split_index부터 끝까지\n",
        "  return train_data, test_data\n",
        "\n",
        "#데이터 분할 함수 사용 예시\n",
        "full_data = [1, 2, 3, 4, 5, 6, 7, 8, 9, 10]\n",
        "print(\"===== 데이터 분할 예제 =====\")\n",
        "print(\" 전체 데이터:\", full_data) # 콤마(,)로 결과로 나오는 리스트의 요소 값을 구분\n",
        "\n",
        "#80:20으로 분할\n",
        "train, test = split_data(full_data)\n",
        "print(\"\\n기본 비율(80%)로 분할:\")\n",
        "print(\"학습 데이터:\", train) # 학습 데이터 : [1, 2, 3, 4, 5, 6, 7, 8]\n",
        "print(\"테스트 데이터:\", test) # 테스트 데이터 : [9, 10]"
      ],
      "metadata": {
        "colab": {
          "base_uri": "https://localhost:8080/"
        },
        "id": "_WWlSFQWpTtb",
        "outputId": "612c5552-8700-44c9-f9cb-d2bcbb30616b"
      },
      "execution_count": null,
      "outputs": [
        {
          "output_type": "stream",
          "name": "stdout",
          "text": [
            "===== 데이터 분할 예제 =====\n",
            " 전체 데이터: [1, 2, 3, 4, 5, 6, 7, 8, 9, 10]\n",
            "\n",
            "기본 비율(80%)로 분할:\n",
            "학습 데이터: [1, 2, 3, 4, 5, 6, 7, 8]\n",
            "테스트 데이터: [9, 10]\n"
          ]
        }
      ]
    },
    {
      "cell_type": "code",
      "source": [
        "square = lambda x: x ** 2\n",
        "print(square(5)) # 25\n",
        "add = lambda a, b,: a//b\n",
        "print(add(3,7))\n",
        "mul = lambda a,b,: a * b\n",
        "print(mul(3,7))"
      ],
      "metadata": {
        "colab": {
          "base_uri": "https://localhost:8080/"
        },
        "id": "M5JsfbRGqOO5",
        "outputId": "5906ea5b-17bf-478a-9bd1-3798777a752a"
      },
      "execution_count": null,
      "outputs": [
        {
          "output_type": "stream",
          "name": "stdout",
          "text": [
            "25\n",
            "0\n",
            "21\n"
          ]
        }
      ]
    },
    {
      "cell_type": "code",
      "source": [
        "check_even = lambda x: \"짝수\" if x % 2 == 0 else \"홀수\"\n",
        "print(check_even(4)) # True\n",
        "print(check_even(7)) # False\n",
        "\n",
        "numbers = [5,2,9,1]\n",
        "sorted_numbers = sorted(numbers, key=lambda x: x)\n",
        "print(sorted_numbers)\n"
      ],
      "metadata": {
        "colab": {
          "base_uri": "https://localhost:8080/"
        },
        "id": "sm0ZXgsr0toP",
        "outputId": "f18113c5-2e2f-410e-92f4-1e071a8c2ebb"
      },
      "execution_count": null,
      "outputs": [
        {
          "output_type": "stream",
          "name": "stdout",
          "text": [
            "짝수\n",
            "홀수\n",
            "[1, 2, 5, 9]\n"
          ]
        }
      ]
    },
    {
      "cell_type": "code",
      "source": [
        "# prompt: 문자열의 길이를 구하는 코드\n",
        "\n",
        "text = \"Python\"\n",
        "print(len(text))"
      ],
      "metadata": {
        "colab": {
          "base_uri": "https://localhost:8080/"
        },
        "id": "5WzZO_Ig3daS",
        "outputId": "25a21fff-1320-4346-ba9c-2edfe6f4a413"
      },
      "execution_count": null,
      "outputs": [
        {
          "output_type": "stream",
          "name": "stdout",
          "text": [
            "6\n"
          ]
        }
      ]
    },
    {
      "cell_type": "code",
      "source": [
        "name = \"Jack\"\n",
        "age = 40\n",
        "\n",
        "greeting = f\"안녕하세요. {name}입니다. 저는 {age}살입니다.\"\n",
        "print(greeting)"
      ],
      "metadata": {
        "colab": {
          "base_uri": "https://localhost:8080/"
        },
        "id": "hzzHo1yzW5wK",
        "outputId": "1b61c1f6-7e85-4e06-93e4-aa1cd825e80c"
      },
      "execution_count": null,
      "outputs": [
        {
          "output_type": "stream",
          "name": "stdout",
          "text": [
            "안녕하세요. Jack입니다. 저는 40살입니다.\n"
          ]
        }
      ]
    },
    {
      "cell_type": "code",
      "source": [
        "number = 1.254963\n",
        "rounded_number = round(number,1)\n",
        "print(rounded_number)"
      ],
      "metadata": {
        "colab": {
          "base_uri": "https://localhost:8080/"
        },
        "id": "k4X_kIC1Xfri",
        "outputId": "a69100d2-5e68-4eb7-fa9a-5f46cc8813b2"
      },
      "execution_count": null,
      "outputs": [
        {
          "output_type": "stream",
          "name": "stdout",
          "text": [
            "1.3\n"
          ]
        }
      ]
    },
    {
      "cell_type": "code",
      "source": [
        "result = pow(2,8)\n",
        "print(result)"
      ],
      "metadata": {
        "colab": {
          "base_uri": "https://localhost:8080/"
        },
        "id": "L3GaEk81XuR6",
        "outputId": "bc90ab18-a16e-4983-86ec-0c266c7553fe"
      },
      "execution_count": null,
      "outputs": [
        {
          "output_type": "stream",
          "name": "stdout",
          "text": [
            "256\n"
          ]
        }
      ]
    },
    {
      "cell_type": "code",
      "source": [
        "numbers = [1,2,3,4,5]\n",
        "doubled_num = list(map(lambda x: x * 2, numbers))\n",
        "print(doubled_num)"
      ],
      "metadata": {
        "colab": {
          "base_uri": "https://localhost:8080/"
        },
        "id": "Rqd9siwmX7xS",
        "outputId": "5c3f4d8c-2b42-4013-85bd-fbaff1fc3746"
      },
      "execution_count": null,
      "outputs": [
        {
          "output_type": "stream",
          "name": "stdout",
          "text": [
            "[2, 4, 6, 8, 10]\n"
          ]
        }
      ]
    },
    {
      "cell_type": "code",
      "source": [
        "numbers = [1,2,3,4,5]\n",
        "\n",
        "def double(x):\n",
        "  return x * 2\n",
        "\n",
        "doubled_num = list(map(double, numbers))\n",
        "print(doubled_num)"
      ],
      "metadata": {
        "colab": {
          "base_uri": "https://localhost:8080/"
        },
        "id": "hW5qBoF5YaiS",
        "outputId": "aaa63490-943d-4a7f-cd58-c854866aa075"
      },
      "execution_count": null,
      "outputs": [
        {
          "output_type": "stream",
          "name": "stdout",
          "text": [
            "[2, 4, 6, 8, 10]\n"
          ]
        }
      ]
    },
    {
      "cell_type": "code",
      "source": [
        "type(123)"
      ],
      "metadata": {
        "colab": {
          "base_uri": "https://localhost:8080/"
        },
        "id": "y8XQJ_x_twfi",
        "outputId": "2b89fdf4-0278-4e2a-b555-62c967f3529b"
      },
      "execution_count": null,
      "outputs": [
        {
          "output_type": "execute_result",
          "data": {
            "text/plain": [
              "int"
            ]
          },
          "metadata": {},
          "execution_count": 16
        }
      ]
    },
    {
      "cell_type": "code",
      "source": [
        "int(\"10\")"
      ],
      "metadata": {
        "colab": {
          "base_uri": "https://localhost:8080/"
        },
        "id": "QofqAxkct0eN",
        "outputId": "28b3f2b2-91d1-4ec9-d55e-6907404f7e5e"
      },
      "execution_count": null,
      "outputs": [
        {
          "output_type": "execute_result",
          "data": {
            "text/plain": [
              "10"
            ]
          },
          "metadata": {},
          "execution_count": 17
        }
      ]
    },
    {
      "cell_type": "code",
      "source": [
        "float(\"3.14\")"
      ],
      "metadata": {
        "colab": {
          "base_uri": "https://localhost:8080/"
        },
        "id": "dIaAWHknt2jU",
        "outputId": "d7b8fd6e-2df1-4beb-c31e-6cf859eb9c3d"
      },
      "execution_count": null,
      "outputs": [
        {
          "output_type": "execute_result",
          "data": {
            "text/plain": [
              "3.14"
            ]
          },
          "metadata": {},
          "execution_count": 18
        }
      ]
    },
    {
      "cell_type": "code",
      "source": [
        "str(123)"
      ],
      "metadata": {
        "colab": {
          "base_uri": "https://localhost:8080/",
          "height": 35
        },
        "id": "jRSEA_Wst5DU",
        "outputId": "85539093-f837-4ae4-c7b6-a201436f67b5"
      },
      "execution_count": null,
      "outputs": [
        {
          "output_type": "execute_result",
          "data": {
            "text/plain": [
              "'123'"
            ],
            "application/vnd.google.colaboratory.intrinsic+json": {
              "type": "string"
            }
          },
          "metadata": {},
          "execution_count": 19
        }
      ]
    },
    {
      "cell_type": "code",
      "source": [
        "bool(0)"
      ],
      "metadata": {
        "colab": {
          "base_uri": "https://localhost:8080/"
        },
        "id": "mz6C0eBOt791",
        "outputId": "5b5dc4a0-5b88-48e9-fd13-ebae5f681107"
      },
      "execution_count": null,
      "outputs": [
        {
          "output_type": "execute_result",
          "data": {
            "text/plain": [
              "False"
            ]
          },
          "metadata": {},
          "execution_count": 21
        }
      ]
    },
    {
      "cell_type": "code",
      "source": [
        "bool(1)"
      ],
      "metadata": {
        "colab": {
          "base_uri": "https://localhost:8080/"
        },
        "id": "kwARdAkHuB-M",
        "outputId": "642c64a0-caaa-44b9-cead-6e8cbba5acbb"
      },
      "execution_count": null,
      "outputs": [
        {
          "output_type": "execute_result",
          "data": {
            "text/plain": [
              "True"
            ]
          },
          "metadata": {},
          "execution_count": 23
        }
      ]
    },
    {
      "cell_type": "code",
      "source": [
        "isinstance(123, int)"
      ],
      "metadata": {
        "colab": {
          "base_uri": "https://localhost:8080/"
        },
        "id": "GM4c3S5nuEFv",
        "outputId": "1ac58476-c292-4714-bdb5-30e32f30c751"
      },
      "execution_count": null,
      "outputs": [
        {
          "output_type": "execute_result",
          "data": {
            "text/plain": [
              "True"
            ]
          },
          "metadata": {},
          "execution_count": 24
        }
      ]
    },
    {
      "cell_type": "code",
      "source": [
        "len([1,2,3])"
      ],
      "metadata": {
        "colab": {
          "base_uri": "https://localhost:8080/"
        },
        "id": "HbG10t7euIN2",
        "outputId": "c90e644e-b337-429f-c6f3-134769fd8c8b"
      },
      "execution_count": null,
      "outputs": [
        {
          "output_type": "execute_result",
          "data": {
            "text/plain": [
              "3"
            ]
          },
          "metadata": {},
          "execution_count": 26
        }
      ]
    },
    {
      "cell_type": "code",
      "source": [
        "sum([1,2,3])"
      ],
      "metadata": {
        "colab": {
          "base_uri": "https://localhost:8080/"
        },
        "id": "QHG7A16MuLUf",
        "outputId": "91f4e788-0188-4b66-f71e-da3b55d3d96b"
      },
      "execution_count": null,
      "outputs": [
        {
          "output_type": "execute_result",
          "data": {
            "text/plain": [
              "6"
            ]
          },
          "metadata": {},
          "execution_count": 27
        }
      ]
    },
    {
      "cell_type": "code",
      "source": [
        "max([1,2,3])"
      ],
      "metadata": {
        "colab": {
          "base_uri": "https://localhost:8080/"
        },
        "id": "F0GVC1r7uOI_",
        "outputId": "1dabcdc5-be1a-4fe1-90de-45221142dcb1"
      },
      "execution_count": null,
      "outputs": [
        {
          "output_type": "execute_result",
          "data": {
            "text/plain": [
              "3"
            ]
          },
          "metadata": {},
          "execution_count": 28
        }
      ]
    },
    {
      "cell_type": "code",
      "source": [
        "min([1,2,3])"
      ],
      "metadata": {
        "colab": {
          "base_uri": "https://localhost:8080/"
        },
        "id": "a36w3mhouQsf",
        "outputId": "a3473024-868b-4ca9-b0f3-361f526061b2"
      },
      "execution_count": null,
      "outputs": [
        {
          "output_type": "execute_result",
          "data": {
            "text/plain": [
              "1"
            ]
          },
          "metadata": {},
          "execution_count": 29
        }
      ]
    },
    {
      "cell_type": "code",
      "source": [
        "sorted([3,1,2])"
      ],
      "metadata": {
        "colab": {
          "base_uri": "https://localhost:8080/"
        },
        "id": "7K4qf82zuT13",
        "outputId": "befc7c63-9219-4ed9-a027-dea1983389d3"
      },
      "execution_count": null,
      "outputs": [
        {
          "output_type": "execute_result",
          "data": {
            "text/plain": [
              "[1, 2, 3]"
            ]
          },
          "metadata": {},
          "execution_count": 30
        }
      ]
    },
    {
      "cell_type": "code",
      "source": [
        "list(reversed([1,2,3]))"
      ],
      "metadata": {
        "colab": {
          "base_uri": "https://localhost:8080/"
        },
        "id": "RLXWqhE3uXEf",
        "outputId": "e8184cf6-c47b-426b-8086-f93b8a47ab7e"
      },
      "execution_count": null,
      "outputs": [
        {
          "output_type": "execute_result",
          "data": {
            "text/plain": [
              "[3, 2, 1]"
            ]
          },
          "metadata": {},
          "execution_count": 31
        }
      ]
    },
    {
      "cell_type": "code",
      "source": [
        "print(\"Hello, World!\")"
      ],
      "metadata": {
        "colab": {
          "base_uri": "https://localhost:8080/"
        },
        "id": "VX4lqH7Uubl3",
        "outputId": "a40185d8-cbe4-4ead-ca73-bcd28ab915f1"
      },
      "execution_count": null,
      "outputs": [
        {
          "output_type": "stream",
          "name": "stdout",
          "text": [
            "Hello, World!\n"
          ]
        }
      ]
    },
    {
      "cell_type": "code",
      "source": [
        "input(\"Enter Name: \")"
      ],
      "metadata": {
        "colab": {
          "base_uri": "https://localhost:8080/",
          "height": 54
        },
        "id": "FZwYzGeXugoX",
        "outputId": "ede4ff03-9332-4afb-fa74-5e0abfa4cb27"
      },
      "execution_count": null,
      "outputs": [
        {
          "name": "stdout",
          "output_type": "stream",
          "text": [
            "Enter Name: sea jin\n"
          ]
        },
        {
          "output_type": "execute_result",
          "data": {
            "text/plain": [
              "'sea jin'"
            ],
            "application/vnd.google.colaboratory.intrinsic+json": {
              "type": "string"
            }
          },
          "metadata": {},
          "execution_count": 33
        }
      ]
    },
    {
      "cell_type": "code",
      "source": [
        "\"{:.2f}\".format(3.14159)"
      ],
      "metadata": {
        "colab": {
          "base_uri": "https://localhost:8080/",
          "height": 35
        },
        "id": "nePFuLERukOv",
        "outputId": "c2cf527f-10bc-4d75-df66-dc925d5988e2"
      },
      "execution_count": null,
      "outputs": [
        {
          "output_type": "execute_result",
          "data": {
            "text/plain": [
              "'3.14'"
            ],
            "application/vnd.google.colaboratory.intrinsic+json": {
              "type": "string"
            }
          },
          "metadata": {},
          "execution_count": 34
        }
      ]
    },
    {
      "cell_type": "code",
      "source": [
        "abs(-5)"
      ],
      "metadata": {
        "colab": {
          "base_uri": "https://localhost:8080/"
        },
        "id": "0dtvAAiwuuSP",
        "outputId": "2e6ade22-d480-47ac-8bd9-8b8914f25887"
      },
      "execution_count": null,
      "outputs": [
        {
          "output_type": "execute_result",
          "data": {
            "text/plain": [
              "5"
            ]
          },
          "metadata": {},
          "execution_count": 35
        }
      ]
    },
    {
      "cell_type": "code",
      "source": [
        "round(3.14159, 2)"
      ],
      "metadata": {
        "colab": {
          "base_uri": "https://localhost:8080/"
        },
        "id": "7VRLhCSOuxdP",
        "outputId": "bb0f056d-d12f-446c-f54c-61f3909f733e"
      },
      "execution_count": null,
      "outputs": [
        {
          "output_type": "execute_result",
          "data": {
            "text/plain": [
              "3.14"
            ]
          },
          "metadata": {},
          "execution_count": 36
        }
      ]
    },
    {
      "cell_type": "code",
      "source": [
        "pow(2,3)"
      ],
      "metadata": {
        "colab": {
          "base_uri": "https://localhost:8080/"
        },
        "id": "9tdtqOMHu0B_",
        "outputId": "0575ad4f-e00c-480e-8265-bb4da62f79b5"
      },
      "execution_count": null,
      "outputs": [
        {
          "output_type": "execute_result",
          "data": {
            "text/plain": [
              "8"
            ]
          },
          "metadata": {},
          "execution_count": 37
        }
      ]
    },
    {
      "cell_type": "code",
      "source": [
        "map(str,[1,2,3])"
      ],
      "metadata": {
        "colab": {
          "base_uri": "https://localhost:8080/"
        },
        "id": "0DkhLdBqu1R3",
        "outputId": "d21bed16-0ef1-4e48-e638-24a6df52e991"
      },
      "execution_count": null,
      "outputs": [
        {
          "output_type": "execute_result",
          "data": {
            "text/plain": [
              "<map at 0x7da24c3c6050>"
            ]
          },
          "metadata": {},
          "execution_count": 39
        }
      ]
    },
    {
      "cell_type": "code",
      "source": [
        "filter(lambda x: x > 2, [1,2,3])"
      ],
      "metadata": {
        "colab": {
          "base_uri": "https://localhost:8080/"
        },
        "id": "JhOzvnVtu4Ln",
        "outputId": "15dea18d-db44-4146-c108-c30652bff6f0"
      },
      "execution_count": null,
      "outputs": [
        {
          "output_type": "execute_result",
          "data": {
            "text/plain": [
              "<filter at 0x7da24c48fdf0>"
            ]
          },
          "metadata": {},
          "execution_count": 40
        }
      ]
    },
    {
      "cell_type": "code",
      "source": [
        "zip([1,2],['a','b'])"
      ],
      "metadata": {
        "colab": {
          "base_uri": "https://localhost:8080/"
        },
        "id": "7_LpeCL3vTEv",
        "outputId": "7edd9e97-9cf7-4eaa-d67e-7f662d28a083"
      },
      "execution_count": null,
      "outputs": [
        {
          "output_type": "execute_result",
          "data": {
            "text/plain": [
              "<zip at 0x7da24be03d80>"
            ]
          },
          "metadata": {},
          "execution_count": 41
        }
      ]
    },
    {
      "cell_type": "code",
      "source": [
        "enumerate(['a','b','c'])"
      ],
      "metadata": {
        "colab": {
          "base_uri": "https://localhost:8080/"
        },
        "id": "TxhMbAHzve-_",
        "outputId": "61ab2e26-56d6-42e8-f58e-44b65195bb55"
      },
      "execution_count": null,
      "outputs": [
        {
          "output_type": "execute_result",
          "data": {
            "text/plain": [
              "<enumerate at 0x7da24be1e280>"
            ]
          },
          "metadata": {},
          "execution_count": 42
        }
      ]
    },
    {
      "cell_type": "code",
      "source": [
        "fruits = ['apple', 'banana']\n",
        "fruits.append('cherry')\n",
        "print(fruits)"
      ],
      "metadata": {
        "colab": {
          "base_uri": "https://localhost:8080/"
        },
        "id": "wiNxaQLFwuKE",
        "outputId": "fc11e053-ded5-4e98-f4e3-0d3fdbca95a6"
      },
      "execution_count": null,
      "outputs": [
        {
          "output_type": "stream",
          "name": "stdout",
          "text": [
            "['apple', 'banana', 'cherry']\n"
          ]
        }
      ]
    },
    {
      "cell_type": "code",
      "source": [
        "fruits = ['apple', 'banana']\n",
        "fruits.extend(['cherry', 'date'])\n",
        "print(fruits)"
      ],
      "metadata": {
        "colab": {
          "base_uri": "https://localhost:8080/"
        },
        "id": "_VsGRwzGw-G3",
        "outputId": "4fb512df-2546-4b6b-8733-58bf6c545580"
      },
      "execution_count": null,
      "outputs": [
        {
          "output_type": "stream",
          "name": "stdout",
          "text": [
            "['apple', 'banana', 'cherry', 'date']\n"
          ]
        }
      ]
    },
    {
      "cell_type": "code",
      "source": [
        "fruits = ['apple', 'cherry']\n",
        "fruits.insert(1, 'banana')\n",
        "print(fruits)"
      ],
      "metadata": {
        "colab": {
          "base_uri": "https://localhost:8080/"
        },
        "id": "UfS-PqX6xTff",
        "outputId": "4e6ee4d9-02a1-4356-bdaf-f5284e9ecdbe"
      },
      "execution_count": null,
      "outputs": [
        {
          "output_type": "stream",
          "name": "stdout",
          "text": [
            "['apple', 'banana', 'cherry']\n"
          ]
        }
      ]
    },
    {
      "cell_type": "code",
      "source": [
        "fruits = ['apple', 'banana', 'cherry']\n",
        "fruits.remove('banana')\n",
        "print(fruits)"
      ],
      "metadata": {
        "colab": {
          "base_uri": "https://localhost:8080/"
        },
        "id": "_7pgLEYkxd5f",
        "outputId": "26a5f7ff-44c4-4b1f-a776-9ab2d784f8c2"
      },
      "execution_count": null,
      "outputs": [
        {
          "output_type": "stream",
          "name": "stdout",
          "text": [
            "['apple', 'cherry']\n"
          ]
        }
      ]
    },
    {
      "cell_type": "code",
      "source": [
        "fruits = ['apple', 'banana', 'cherry']\n",
        "last_item = fruits.pop()\n",
        "print(last_item)\n",
        "print(fruits)"
      ],
      "metadata": {
        "colab": {
          "base_uri": "https://localhost:8080/"
        },
        "id": "NlhvUWQExpcu",
        "outputId": "21122cf7-a216-4156-985d-0ab9e01b24a5"
      },
      "execution_count": null,
      "outputs": [
        {
          "output_type": "stream",
          "name": "stdout",
          "text": [
            "cherry\n",
            "['apple', 'banana']\n"
          ]
        }
      ]
    },
    {
      "cell_type": "code",
      "source": [
        "numbers = [3,1,4,1,5]\n",
        "numbers.sort()\n",
        "print(numbers)"
      ],
      "metadata": {
        "colab": {
          "base_uri": "https://localhost:8080/"
        },
        "id": "8P557CKtxyP_",
        "outputId": "e051e28f-eb3c-4314-8ac9-8ab37502c0da"
      },
      "execution_count": null,
      "outputs": [
        {
          "output_type": "stream",
          "name": "stdout",
          "text": [
            "[1, 1, 3, 4, 5]\n"
          ]
        }
      ]
    },
    {
      "cell_type": "code",
      "source": [
        "numbers = [1,2,3]\n",
        "numbers.reverse()\n",
        "print(numbers)"
      ],
      "metadata": {
        "colab": {
          "base_uri": "https://localhost:8080/"
        },
        "id": "48LfwTfyyHoW",
        "outputId": "d4e365a8-68a7-4a96-88b5-2a2c80034933"
      },
      "execution_count": null,
      "outputs": [
        {
          "output_type": "stream",
          "name": "stdout",
          "text": [
            "[3, 2, 1]\n"
          ]
        }
      ]
    },
    {
      "cell_type": "code",
      "source": [
        "numbers = [1,2,3,1]\n",
        "print(numbers.count(1))"
      ],
      "metadata": {
        "colab": {
          "base_uri": "https://localhost:8080/"
        },
        "id": "lNK8BsHgyPmO",
        "outputId": "73a5e3d2-1d3f-4a1a-a3e0-8dbc35757ab8"
      },
      "execution_count": null,
      "outputs": [
        {
          "output_type": "stream",
          "name": "stdout",
          "text": [
            "2\n"
          ]
        }
      ]
    },
    {
      "cell_type": "code",
      "source": [
        "fruits = ['apple', 'banana', 'cherry']\n",
        "print(fruits.index('banana'))"
      ],
      "metadata": {
        "colab": {
          "base_uri": "https://localhost:8080/"
        },
        "id": "ngp1hXI1yW93",
        "outputId": "d224e303-6cab-4cca-8180-7bd1488e7acc"
      },
      "execution_count": null,
      "outputs": [
        {
          "output_type": "stream",
          "name": "stdout",
          "text": [
            "1\n"
          ]
        }
      ]
    },
    {
      "cell_type": "code",
      "source": [
        "text = \"HELLO, WORLD!\"\n",
        "print(text.lower())"
      ],
      "metadata": {
        "colab": {
          "base_uri": "https://localhost:8080/"
        },
        "id": "yhil4HXUyguH",
        "outputId": "106029be-b223-447c-867e-98576f77c079"
      },
      "execution_count": null,
      "outputs": [
        {
          "output_type": "stream",
          "name": "stdout",
          "text": [
            "hello, world!\n"
          ]
        }
      ]
    },
    {
      "cell_type": "code",
      "source": [
        "text = \"hello, world!\"\n",
        "print(text.upper())"
      ],
      "metadata": {
        "colab": {
          "base_uri": "https://localhost:8080/"
        },
        "id": "5McCbxGry0MH",
        "outputId": "af3fdeae-58b8-47fe-b355-66d4f2ee66e6"
      },
      "execution_count": null,
      "outputs": [
        {
          "output_type": "stream",
          "name": "stdout",
          "text": [
            "HELLO, WORLD!\n"
          ]
        }
      ]
    },
    {
      "cell_type": "code",
      "source": [
        "test = \" Hello, World \"\n",
        "print(test.strip())"
      ],
      "metadata": {
        "colab": {
          "base_uri": "https://localhost:8080/"
        },
        "id": "mGFnr29oy3Dv",
        "outputId": "a70c8700-bf18-45d1-b8c7-f3a3f2f5c957"
      },
      "execution_count": null,
      "outputs": [
        {
          "output_type": "stream",
          "name": "stdout",
          "text": [
            "Hello, World\n"
          ]
        }
      ]
    },
    {
      "cell_type": "code",
      "source": [
        "text = \"banana\"\n",
        "print(text.replace(\"a\", \"o\"))"
      ],
      "metadata": {
        "colab": {
          "base_uri": "https://localhost:8080/"
        },
        "id": "dnmOEYrQy-K_",
        "outputId": "fb1852ec-0c60-4d43-ae49-bce0df70c07a"
      },
      "execution_count": null,
      "outputs": [
        {
          "output_type": "stream",
          "name": "stdout",
          "text": [
            "bonono\n"
          ]
        }
      ]
    },
    {
      "cell_type": "code",
      "source": [
        "text = \"apple, banana, cherry\"\n",
        "print(text.split(','))"
      ],
      "metadata": {
        "colab": {
          "base_uri": "https://localhost:8080/"
        },
        "id": "NZPQFpGGzGau",
        "outputId": "dc8fbccd-2ae0-43fb-cdd9-0309a00113af"
      },
      "execution_count": null,
      "outputs": [
        {
          "output_type": "stream",
          "name": "stdout",
          "text": [
            "['apple, banana, cherry']\n"
          ]
        }
      ]
    },
    {
      "cell_type": "code",
      "source": [
        "fruits = ['apple', 'banana', 'cherry']\n",
        "print(' vs '.join(fruits))"
      ],
      "metadata": {
        "colab": {
          "base_uri": "https://localhost:8080/"
        },
        "id": "lZHBjB8qzPnu",
        "outputId": "8e8702c8-650c-462c-f2e8-b749ca88fd76"
      },
      "execution_count": null,
      "outputs": [
        {
          "output_type": "stream",
          "name": "stdout",
          "text": [
            "apple vs banana vs cherry\n"
          ]
        }
      ]
    },
    {
      "cell_type": "code",
      "source": [
        "text = \"Hello World\"\n",
        "print(text.find(\"World\"))"
      ],
      "metadata": {
        "colab": {
          "base_uri": "https://localhost:8080/"
        },
        "id": "ApGPYHjWzxom",
        "outputId": "0d051fc9-3619-4cd9-95ea-599dc8bc74a1"
      },
      "execution_count": null,
      "outputs": [
        {
          "output_type": "stream",
          "name": "stdout",
          "text": [
            "7\n"
          ]
        }
      ]
    },
    {
      "cell_type": "code",
      "source": [
        "text = \"Hello World\"\n",
        "print(text.startswith(\"Hello\"))\n",
        "print(text.endswith(\"World\"))"
      ],
      "metadata": {
        "colab": {
          "base_uri": "https://localhost:8080/"
        },
        "id": "jLIIUB7U0EHP",
        "outputId": "ee65c26d-bf53-4c8d-8433-054d9b989962"
      },
      "execution_count": null,
      "outputs": [
        {
          "output_type": "stream",
          "name": "stdout",
          "text": [
            "True\n",
            "True\n"
          ]
        }
      ]
    },
    {
      "cell_type": "code",
      "source": [
        "text = \"12345\"\n",
        "print(text.isnumeric())"
      ],
      "metadata": {
        "colab": {
          "base_uri": "https://localhost:8080/"
        },
        "id": "lsWj2-7w0RpH",
        "outputId": "53ed3afa-1d0f-41d7-d7d0-1dc86436f608"
      },
      "execution_count": null,
      "outputs": [
        {
          "output_type": "stream",
          "name": "stdout",
          "text": [
            "True\n"
          ]
        }
      ]
    },
    {
      "cell_type": "code",
      "source": [
        "text = \"hello world\"\n",
        "print(text.capitalize())"
      ],
      "metadata": {
        "colab": {
          "base_uri": "https://localhost:8080/"
        },
        "id": "Hi1SEb9p0aIX",
        "outputId": "6efccca8-70ce-4584-bd47-458fe73324cd"
      },
      "execution_count": null,
      "outputs": [
        {
          "output_type": "stream",
          "name": "stdout",
          "text": [
            "Hello world\n"
          ]
        }
      ]
    },
    {
      "cell_type": "code",
      "source": [
        "**!**"
      ],
      "metadata": {
        "id": "GeFLow2T0qZf",
        "colab": {
          "base_uri": "https://localhost:8080/",
          "height": 110
        },
        "outputId": "7e761326-8b77-4e8c-b0ac-5a8f2671d670"
      },
      "execution_count": 81,
      "outputs": [
        {
          "output_type": "error",
          "ename": "SyntaxError",
          "evalue": "invalid syntax (<ipython-input-81-0a3d18fc2f98>, line 1)",
          "traceback": [
            "\u001b[0;36m  File \u001b[0;32m\"<ipython-input-81-0a3d18fc2f98>\"\u001b[0;36m, line \u001b[0;32m1\u001b[0m\n\u001b[0;31m    **!**\u001b[0m\n\u001b[0m    ^\u001b[0m\n\u001b[0;31mSyntaxError\u001b[0m\u001b[0;31m:\u001b[0m invalid syntax\n"
          ]
        }
      ]
    },
    {
      "cell_type": "code",
      "source": [
        "# GitHub 리포지토리 클론\n",
        "!git clone https://github.com/username/repository.git\n",
        "\n",
        "# 코드 변경 후 리포지토리로 푸시\n",
        "!git add .\n",
        "!git commit -m \"커밋 메시지\"\n",
        "!git push origin main\n"
      ],
      "metadata": {
        "colab": {
          "base_uri": "https://localhost:8080/"
        },
        "id": "G5OQ2N-Z6pxX",
        "outputId": "8aeb403c-a66d-48c2-c57b-87e945973399"
      },
      "execution_count": 82,
      "outputs": [
        {
          "output_type": "stream",
          "name": "stdout",
          "text": [
            "Cloning into 'repository'...\n",
            "fatal: could not read Username for 'https://github.com': No such device or address\n",
            "fatal: not a git repository (or any of the parent directories): .git\n",
            "fatal: not a git repository (or any of the parent directories): .git\n",
            "fatal: not a git repository (or any of the parent directories): .git\n"
          ]
        }
      ]
    }
  ]
}